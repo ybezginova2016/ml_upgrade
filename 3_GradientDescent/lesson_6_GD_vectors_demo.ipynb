{
 "nbformat": 4,
 "nbformat_minor": 0,
 "metadata": {
  "colab": {
   "provenance": []
  },
  "kernelspec": {
   "name": "python3",
   "display_name": "Python 3"
  },
  "language_info": {
   "name": "python"
  }
 },
 "cells": [
  {
   "cell_type": "markdown",
   "source": [
    "# Градиентный спуск для функции нескольких переменных (векторная форма)"
   ],
   "metadata": {
    "id": "91UwDuUMkCUh"
   }
  },
  {
   "cell_type": "markdown",
   "source": [
    "## Импорт библиотек"
   ],
   "metadata": {
    "id": "ijYTsr2Skhjf"
   }
  },
  {
   "cell_type": "code",
   "source": [
    "import pandas as pd\n",
    "import matplotlib.pyplot as plt\n",
    "import numpy as np\n",
    "import random"
   ],
   "metadata": {
    "id": "e6hYQKiiGpFq"
   },
   "execution_count": 9,
   "outputs": []
  },
  {
   "cell_type": "code",
   "source": [
    "RANDOM_STATE = 42\n",
    "np.random.RandomState(RANDOM_STATE);"
   ],
   "metadata": {
    "id": "CHDTb982rNBx"
   },
   "execution_count": 10,
   "outputs": []
  },
  {
   "cell_type": "markdown",
   "source": [
    "## Практика"
   ],
   "metadata": {
    "id": "ms9ukrzjkk3q"
   }
  },
  {
   "cell_type": "markdown",
   "source": [
    "Обучающие данные."
   ],
   "metadata": {
    "id": "Eg2dntCdkx6e"
   }
  },
  {
   "cell_type": "code",
   "source": [
    "df = pd.DataFrame({'x1' : [10, 5, 7], 'x2' : [40, 36, 30], 'y' : [100, 73, 71]})\n",
    "df"
   ],
   "metadata": {
    "colab": {
     "base_uri": "https://localhost:8080/",
     "height": 143
    },
    "id": "5bDzenOCkxA0",
    "outputId": "7c2e5e4a-002c-4961-b266-0823c1058253"
   },
   "execution_count": 11,
   "outputs": [
    {
     "data": {
      "text/plain": "   x1  x2    y\n0  10  40  100\n1   5  36   73\n2   7  30   71",
      "text/html": "<div>\n<style scoped>\n    .dataframe tbody tr th:only-of-type {\n        vertical-align: middle;\n    }\n\n    .dataframe tbody tr th {\n        vertical-align: top;\n    }\n\n    .dataframe thead th {\n        text-align: right;\n    }\n</style>\n<table border=\"1\" class=\"dataframe\">\n  <thead>\n    <tr style=\"text-align: right;\">\n      <th></th>\n      <th>x1</th>\n      <th>x2</th>\n      <th>y</th>\n    </tr>\n  </thead>\n  <tbody>\n    <tr>\n      <th>0</th>\n      <td>10</td>\n      <td>40</td>\n      <td>100</td>\n    </tr>\n    <tr>\n      <th>1</th>\n      <td>5</td>\n      <td>36</td>\n      <td>73</td>\n    </tr>\n    <tr>\n      <th>2</th>\n      <td>7</td>\n      <td>30</td>\n      <td>71</td>\n    </tr>\n  </tbody>\n</table>\n</div>"
     },
     "execution_count": 11,
     "metadata": {},
     "output_type": "execute_result"
    }
   ]
  },
  {
   "cell_type": "markdown",
   "source": [
    "Реализуем метод градиентного спуска для обучения линейной регрессии."
   ],
   "metadata": {
    "id": "1YJ9cqoYG-N3"
   }
  },
  {
   "cell_type": "markdown",
   "source": [
    "Сначала напишем функцию для вычисления среднеквадратичной ошибки\n",
    "\n",
    "$MSE = \\frac{1}{m}||Xw - y||^2_2$.\n",
    "\n",
    "Здесь квадратичная ошибка записана в матричном виде, т.е. $X$ - матрица объект-признак, $w$ - вектор весов модели. \n",
    "*  $Xw$ - вектор предсказания модели\n",
    "*  $y$ - вектор правильных ответов,\n",
    "и квадратичная ошибка - это квадрат нормы разности вектора предсказания и вектора правильных ответов.\n",
    "\n",
    "Вычислить норму вектора в python можно разными способами.  \n",
    "Здесь мы  воспользуемся готовой функцией из библиотеку numpy - `numpy.linalg.norm`."
   ],
   "metadata": {
    "id": "uqXcS5A5bLfX"
   }
  },
  {
   "cell_type": "code",
   "source": [
    "def compute_cost(X, y, theta):  \n",
    "    m = len(y)\n",
    "\n",
    "    cost = (1./m) * (np.linalg.norm(X @ theta - y) ** 2)\n",
    "    return cost"
   ],
   "metadata": {
    "id": "YEQuDFkiHG4f"
   },
   "execution_count": 13,
   "outputs": []
  },
  {
   "cell_type": "markdown",
   "source": [
    "Реализуем градиентный спуск по формуле\n",
    "\n",
    "$$w_{new} = w_{prev} - \\nabla_w Q(w_{prev})$$"
   ],
   "metadata": {
    "id": "Cj9DrXzZbOLi"
   }
  },
  {
   "cell_type": "markdown",
   "source": [
    "Вычислим градиент MSE:\n",
    "$$\\nabla_w Q(w)=\\frac2m X^T(Xw-y).$$"
   ],
   "metadata": {
    "id": "nkcALpyjdIAT"
   }
  },
  {
   "cell_type": "markdown",
   "source": [
    "Итак, реализуем метод градиентного спуска:\n",
    "\n",
    "*  первым шагом добавим к матрице `X` единичный столбец - это константный признак, равный 1 на всех объектах.  \n",
    "Он нужен, чтобы записать предсказание линейной регрессии в виде скалярного произведения и тем самым избавиться от знака суммы:\n",
    "$a(x)=w_0+w_1x_1+...+w_dx_d=w_1\\cdot 1+w_1x_1+...w_dx_d=(w,x)$  \n",
    "В python скалярное произведение можно записать так: `w@x`\n",
    "\n",
    "*  затем инициализируем случайным образом вектор весов `params`\n",
    "\n",
    "*  зададим пустой массив `cost_track`, в который будем записывать ошибку на каждой итерации\n",
    "\n",
    "*  наконец, в цикле по количеству эпох (итераций) будем обновлять веса по формуле градиентного спуска"
   ],
   "metadata": {
    "id": "2jus26KKsKTz"
   }
  },
  {
   "cell_type": "code",
   "execution_count": 5,
   "metadata": {
    "id": "o-2MOdaRGlbf"
   },
   "outputs": [],
   "source": [
    "def gradient_descent(X, y, learning_rate, iterations):\n",
    "\n",
    "    X = np.hstack((np.ones((X.shape[0], 1)), X)) # добавляем к Х столбец из 1\n",
    "    params = np.random.rand(X.shape[1])\n",
    "\n",
    "    m = X.shape[0]\n",
    "\n",
    "    cost_track = np.zeros((iterations,1))\n",
    "\n",
    "    for i in range(iterations):\n",
    "        params = params - 2./m * learning_rate * (X.T @ ((X @ params) - y))\n",
    "        cost_track[i] = compute_cost(X, y, params)\n",
    "\n",
    "    return cost_track, params"
   ]
  },
  {
   "cell_type": "markdown",
   "source": [
    "Создадим функцию для получения предсказания модели"
   ],
   "metadata": {
    "id": "R__qZ_ESbQ98"
   }
  },
  {
   "cell_type": "code",
   "source": [
    "def predict(X, params):\n",
    "    X = np.hstack((np.ones((X.shape[0], 1)), X))\n",
    "    return X @ params"
   ],
   "metadata": {
    "id": "REpiCGpGaVO6"
   },
   "execution_count": 6,
   "outputs": []
  },
  {
   "cell_type": "markdown",
   "source": [
    "Применим градиентный спуск"
   ],
   "metadata": {
    "id": "TUq1AnqNg8ge"
   }
  },
  {
   "cell_type": "code",
   "source": [
    "track, weights = gradient_descent(df[['x1','x2']], df['y'], 0.0001, 5000)\n",
    "\n",
    "print(weights)"
   ],
   "metadata": {
    "colab": {
     "base_uri": "https://localhost:8080/"
    },
    "id": "oDruDUDIgkv3",
    "outputId": "64e77f88-7028-47e8-8a0b-2365fd5dae1e"
   },
   "execution_count": 7,
   "outputs": [
    {
     "name": "stdout",
     "output_type": "stream",
     "text": [
      "[0.15705672 3.96401685 1.47788101]\n"
     ]
    }
   ]
  },
  {
   "cell_type": "code",
   "source": [
    "plt.plot(track);"
   ],
   "metadata": {
    "colab": {
     "base_uri": "https://localhost:8080/",
     "height": 269
    },
    "id": "6VJt5S3-hIJw",
    "outputId": "4482c396-5766-41c2-ef9f-f5c34174809a"
   },
   "execution_count": 8,
   "outputs": [
    {
     "data": {
      "text/plain": "<Figure size 640x480 with 1 Axes>",
      "image/png": "[encoded data removed]"
     },
     "metadata": {},
     "output_type": "display_data"
    }
   ]
  },
  {
   "cell_type": "markdown",
   "source": [
    "### Ошибка стремится к нулю, модель хорошо обучается."
   ],
   "metadata": {
    "collapsed": false
   }
  }
 ]
}
