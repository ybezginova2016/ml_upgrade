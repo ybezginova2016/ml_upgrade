{
 "nbformat": 4,
 "nbformat_minor": 0,
 "metadata": {
  "colab": {
   "provenance": []
  },
  "kernelspec": {
   "name": "python3",
   "display_name": "Python 3"
  },
  "language_info": {
   "name": "python"
  }
 },
 "cells": [
  {
   "cell_type": "markdown",
   "source": [
    "# Линейная регрессия: аналитический и численный подходы"
   ],
   "metadata": {
    "id": "XCLQdKkpSwiQ"
   }
  },
  {
   "cell_type": "markdown",
   "source": [
    "## Импорт библиотек, установка константных значений"
   ],
   "metadata": {
    "id": "SI1Lydigusyq"
   }
  },
  {
   "cell_type": "code",
   "execution_count": null,
   "metadata": {
    "id": "2S9uWVHLQbbC"
   },
   "outputs": [],
   "source": [
    "import numpy as np\n",
    "from sklearn.datasets import make_regression\n",
    "from matplotlib import pyplot as plt"
   ]
  },
  {
   "cell_type": "code",
   "source": [
    "RANDOM_STATE = 42\n",
    "np.random.RandomState(RANDOM_STATE);"
   ],
   "metadata": {
    "id": "Xw3JqMBzu7Fw"
   },
   "execution_count": null,
   "outputs": []
  },
  {
   "cell_type": "markdown",
   "source": [
    "## Постановка задачи"
   ],
   "metadata": {
    "id": "Qwt6XOZKuuaI"
   }
  },
  {
   "cell_type": "markdown",
   "source": [
    "Сгенерируем данные для задачи регрессии"
   ],
   "metadata": {
    "id": "aB9s1q2tu0Oe"
   }
  },
  {
   "cell_type": "code",
   "source": [
    "X, y = make_regression(n_samples=100, n_features=1, random_state=RANDOM_STATE, noise=10.0, bias=100.0)"
   ],
   "metadata": {
    "id": "1mF-Koj5u4AA"
   },
   "execution_count": null,
   "outputs": []
  },
  {
   "cell_type": "markdown",
   "source": [
    "Нарисуем сгенерированные данные"
   ],
   "metadata": {
    "id": "yfKF7ZERSjlj"
   }
  },
  {
   "cell_type": "code",
   "source": [
    "plt.scatter(X, y);"
   ],
   "metadata": {
    "colab": {
     "base_uri": "https://localhost:8080/",
     "height": 265
    },
    "id": "tUIeB7nwRv3l",
    "outputId": "c3231a65-cf6d-4f58-98ed-566421c2ae7d"
   },
   "execution_count": null,
   "outputs": [
    {
     "output_type": "display_data",
     "data": {
      "text/plain": [
       "<Figure size 432x288 with 1 Axes>"
      ],
      "image/png": "[encoded data removed]"
     },
     "metadata": {
      "needs_background": "light"
     }
    }
   ]
  },
  {
   "cell_type": "markdown",
   "source": [
    "## Аналитический подход"
   ],
   "metadata": {
    "id": "77qh964BS5w9"
   }
  },
  {
   "cell_type": "markdown",
   "source": [
    "Решим задачу по точной формуле\n",
    "$$w = (X^TX)^{-1}X^Ty$$"
   ],
   "metadata": {
    "id": "GJ2oDuK3vHsQ"
   }
  },
  {
   "cell_type": "code",
   "source": [
    "from sklearn.linear_model import LinearRegression\n",
    "\n",
    "lr = LinearRegression()\n",
    "lr.fit(X, y)\n",
    "\n",
    "pred_lr = lr.predict(X)"
   ],
   "metadata": {
    "id": "zhzZyELPTCfm"
   },
   "execution_count": null,
   "outputs": []
  },
  {
   "cell_type": "markdown",
   "source": [
    "Посчитаем качество предсказания (будем использовать метрику $R^2$) и визуализируем результат."
   ],
   "metadata": {
    "id": "ZF4NA7UYTSpJ"
   }
  },
  {
   "cell_type": "code",
   "source": [
    "from sklearn.metrics import r2_score\n",
    "\n",
    "plt.scatter(X, y, c='blue')\n",
    "plt.plot(X, pred_lr, '-', c='green')\n",
    "\n",
    "print('r2:',r2_score(y, pred_lr))"
   ],
   "metadata": {
    "colab": {
     "base_uri": "https://localhost:8080/",
     "height": 303
    },
    "id": "w7cY2a7zTYnb",
    "outputId": "eb5a4284-4483-4099-84b0-fef8574a9ae2"
   },
   "execution_count": null,
   "outputs": [
    {
     "output_type": "stream",
     "name": "stdout",
     "text": [
      "r2: 0.9417294727711081\n"
     ]
    },
    {
     "output_type": "display_data",
     "data": {
      "text/plain": [
       "<Figure size 432x288 with 1 Axes>"
      ],
      "image/png": "[encoded data removed]"
     },
     "metadata": {
      "needs_background": "light"
     }
    }
   ]
  },
  {
   "cell_type": "markdown",
   "source": [
    "## Численный подход"
   ],
   "metadata": {
    "id": "rz4K_ySpSnd9"
   }
  },
  {
   "cell_type": "markdown",
   "source": [
    "Теперь обучим `SGDRegressor` и сделаем предсказание."
   ],
   "metadata": {
    "id": "NHGvUBR7vUfv"
   }
  },
  {
   "cell_type": "code",
   "source": [
    "from sklearn.linear_model import SGDRegressor\n",
    "\n",
    "sgd = SGDRegressor()\n",
    "sgd.fit(X, y)\n",
    "\n",
    "pred_sgd = sgd.predict(X)"
   ],
   "metadata": {
    "id": "BWTUO_o9R7Ea"
   },
   "execution_count": null,
   "outputs": []
  },
  {
   "cell_type": "markdown",
   "source": [
    "Добавим предсказание на график с исходными объектами и вычислим $R^2$."
   ],
   "metadata": {
    "id": "5fierGBuSsde"
   }
  },
  {
   "cell_type": "code",
   "source": [
    "plt.scatter(X, y, c='blue')\n",
    "plt.plot(X, pred_sgd, '-', c='red')\n",
    "\n",
    "print('r2:',r2_score(y, pred_sgd))"
   ],
   "metadata": {
    "colab": {
     "base_uri": "https://localhost:8080/",
     "height": 303
    },
    "id": "hsHQiBF8SKBa",
    "outputId": "4c08c5f1-3127-45bb-aecb-b9b10f3f9e3c"
   },
   "execution_count": null,
   "outputs": [
    {
     "output_type": "stream",
     "name": "stdout",
     "text": [
      "r2: 0.9417294314576552\n"
     ]
    },
    {
     "output_type": "display_data",
     "data": {
      "text/plain": [
       "<Figure size 432x288 with 1 Axes>"
      ],
      "image/png": "[encoded data removed]"
     },
     "metadata": {
      "needs_background": "light"
     }
    }
   ]
  },
  {
   "cell_type": "markdown",
   "source": [
    "Сравним качество предсказний точным и численным методами"
   ],
   "metadata": {
    "id": "w0z__kWfT1HQ"
   }
  },
  {
   "cell_type": "code",
   "source": [
    "print('r2 exact:',r2_score(y, pred_lr))\n",
    "print('r2 numeric:',r2_score(y, pred_sgd))"
   ],
   "metadata": {
    "colab": {
     "base_uri": "https://localhost:8080/"
    },
    "id": "FSPSVu4dShAw",
    "outputId": "f89f941a-e816-4a81-d4c1-69cbb8c790b8"
   },
   "execution_count": null,
   "outputs": [
    {
     "output_type": "stream",
     "name": "stdout",
     "text": [
      "r2 exact: 0.9417294727711081\n",
      "r2 numeric: 0.9417294314576552\n"
     ]
    }
   ]
  },
  {
   "cell_type": "markdown",
   "source": [
    "Численный подход дает чуть меньшее значение метрики качества, но разница в значениях $R^2$  \n",
    "начинается в шестом знаке после запятой, то есть можно смело считать, что разницы в качестве нет."
   ],
   "metadata": {
    "id": "ulpig6bcUCGq"
   }
  }
 ]
}
