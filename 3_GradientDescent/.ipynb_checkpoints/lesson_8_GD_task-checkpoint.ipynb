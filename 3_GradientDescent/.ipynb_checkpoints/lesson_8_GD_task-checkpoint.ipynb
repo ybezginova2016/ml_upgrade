{
 "cells": [
  {
   "cell_type": "markdown",
   "metadata": {
    "id": "2rIeJvNmzPJy"
   },
   "source": [
    "# Градиентный спуск. Практика"
   ]
  },
  {
   "cell_type": "markdown",
   "metadata": {
    "id": "krXvdp0bzfJK"
   },
   "source": [
    "## Импорт библиотек, установка константных значений"
   ]
  },
  {
   "cell_type": "code",
   "execution_count": 139,
   "metadata": {
    "id": "X6AuQbUpziB8"
   },
   "outputs": [],
   "source": [
    "import pandas as pd\n",
    "import numpy as np\n",
    "from sklearn.datasets import make_regression\n",
    "import matplotlib.pyplot as plt"
   ]
  },
  {
   "cell_type": "code",
   "execution_count": 174,
   "metadata": {
    "id": "47ZRimlw6TEp"
   },
   "outputs": [],
   "source": [
    "RANDOM_STATE = 123\n",
    "TRAIN_SIZE = 0.75\n",
    "\n",
    "np.random.RandomState(RANDOM_STATE);\n",
    "np.random.seed(RANDOM_STATE);"
   ]
  },
  {
   "cell_type": "markdown",
   "metadata": {
    "id": "Taoqwoj1zS4U"
   },
   "source": [
    "## Задание 1"
   ]
  },
  {
   "cell_type": "markdown",
   "metadata": {
    "id": "lm6_Ln0GoliG"
   },
   "source": [
    "Напишите функцию, вычисляющую значение весов в линейной регрессии по точной (аналитически найденной) формуле:\n",
    "\n",
    "$$w = (X^TX)^{-1}X^Ty$$\n",
    "\n",
    "Комментарий: для поиска решения в векторном виде сначала необходимо добавить единичный столбец к матрице $X$.  \n",
    "Это сделано в коде.\n",
    "\n",
    "*The function computes the weights for a linear regression model using the Ordinary Least Squares (OLS) method with the analytical formula.*\n",
    "\n",
    "*This function takes two arguments:*\n",
    "\n",
    "* X: The input features matrix (2D numpy array).\n",
    "* y: The target values vector (1D numpy array).\n",
    "\n",
    "\n",
    "The function first adds a column of ones to the input matrix X. Then, it computes the weights params using the analytical formula provided in the question. The matrix multiplication is done using the @ operator, and the matrix inverse is computed using np.linalg.inv(). Finally, the function returns the computed weights.*\n",
    "\n",
    "You can use this function to find the weights of a linear regression model given the input features and target values.*\n",
    "\n",
    "\n"
   ]
  },
  {
   "cell_type": "code",
   "execution_count": 175,
   "metadata": {
    "id": "ZrVvpU9miOga"
   },
   "outputs": [],
   "source": [
    "def ols_solution(X, y):\n",
    "    # Add a column of ones to the X matrix\n",
    "    X = np.hstack((np.ones((X.shape[0], 1)), X))\n",
    "\n",
    "    # Compute the weights using the analytical formula\n",
    "    params = np.linalg.inv(X.T @ X) @ X.T @ y\n",
    "\n",
    "    return params"
   ]
  },
  {
   "cell_type": "markdown",
   "metadata": {
    "id": "AMBKhU7Zhaev"
   },
   "source": [
    "Заполните функцию для предсказания модели по формуле\n",
    "$$a(X)=Xw$$\n",
    "\n",
    "To implement the prediction function, you just need to perform a matrix multiplication between the input features matrix X and the weights vector w. Here's the complete function.\n",
    "\n",
    "This function takes two arguments:\n",
    "\n",
    "* X: The input features matrix (2D numpy array).\n",
    "* w: The weights vector (1D numpy array).\n",
    "The function first adds a column of ones to the input matrix X to account for the bias term in the linear regression model. Then, it computes the predicted values a using the formula a(X) = Xw, where the matrix multiplication is performed using the @ operator. Finally, the function returns the computed predicted values."
   ]
  },
  {
   "cell_type": "code",
   "execution_count": 176,
   "metadata": {},
   "outputs": [],
   "source": [
    "def predict(X, params):\n",
    "    # Add a column of ones to the input matrix X\n",
    "    X = np.hstack((np.ones((X.shape[0], 1)), X))\n",
    "\n",
    "    # Compute the predicted values using the formula a(X) = Xw\n",
    "    a = X @ params\n",
    "\n",
    "    return X @ params"
   ]
  },
  {
   "cell_type": "markdown",
   "metadata": {
    "id": "OaPciXsEmznh"
   },
   "source": [
    "Продублируем функцию для вычисления значения MSE из урока"
   ]
  },
  {
   "cell_type": "code",
   "execution_count": 177,
   "metadata": {
    "id": "PqzBobT-m28D"
   },
   "outputs": [],
   "source": [
    "def compute_cost(X, y, theta):  \n",
    "    m = len(y)\n",
    "    cost = (1./m) * (np.linalg.norm(X @ theta - y) ** 2)\n",
    "\n",
    "    return cost"
   ]
  },
  {
   "cell_type": "markdown",
   "metadata": {
    "id": "l1EApEeW1OyU"
   },
   "source": [
    "## Задание 2"
   ]
  },
  {
   "cell_type": "markdown",
   "metadata": {
    "id": "JXbV8Luk4-TE"
   },
   "source": [
    "### Задание 2.1"
   ]
  },
  {
   "cell_type": "markdown",
   "metadata": {
    "id": "VFANmcnV5DWz"
   },
   "source": [
    "Скопируйте метод градиентного спуска из семинара в этот ноутбук.\n"
   ]
  },
  {
   "cell_type": "code",
   "execution_count": 178,
   "metadata": {
    "id": "VB9oE8Sg1WG9"
   },
   "outputs": [],
   "source": [
    "def gradient_descent(X, y, learning_rate, iterations):\n",
    "\n",
    "    X = np.hstack((np.ones((X.shape[0], 1)), X)) # добавляем к Х столбец из 1\n",
    "    params = np.random.rand(X.shape[1])\n",
    "\n",
    "    m = X.shape[0]\n",
    "\n",
    "    cost_track = np.zeros((iterations,1))\n",
    "\n",
    "    for i in range(iterations):\n",
    "        params = params - 2./m * learning_rate * (X.T @ ((X @ params) - y))\n",
    "        cost_track[i] = compute_cost(X, y, params)\n",
    "\n",
    "    return cost_track, params"
   ]
  },
  {
   "cell_type": "markdown",
   "metadata": {
    "id": "X_3A_UGWztbY"
   },
   "source": [
    "### Задание 2.2 (бонус для отважных)"
   ]
  },
  {
   "cell_type": "markdown",
   "metadata": {
    "id": "GMujXdy75Lb2"
   },
   "source": [
    "Если чувствуете в себе силы, попробуйте написать SGD сами."
   ]
  },
  {
   "cell_type": "markdown",
   "metadata": {
    "id": "_shCsTQ1pVcU"
   },
   "source": [
    "Модифицируйте метод градиентного спуска из урока так, чтобы это теперь был метод стохастического градиентного спуска:\n",
    "\n",
    "* на каждой итерации выбирайте один случайный индекс `ind` при помощи библиотеки `numpy.random`\n",
    "\n",
    "* градиент на каждой итерации градиентного спуска считайте не как сумму градиентов по всем объектам, а только по одному объекту с индексом `ind`\n",
    "\n",
    "* на каждой итерации вычисляйте значение функции потерь и сохраняйте в список `loss`, который верните вместе с результатом работы функции"
   ]
  },
  {
   "cell_type": "code",
   "execution_count": 179,
   "metadata": {},
   "outputs": [],
   "source": [
    "eta = 0.01\n",
    "epsilon = 0.001\n",
    "iterations = 10000"
   ]
  },
  {
   "cell_type": "markdown",
   "metadata": {},
   "source": [
    "In this updated version of the stochastic_gradient_descent function, I've added an epsilon parameter to check for convergence. The algorithm will terminate if the norm of the gradient is less than epsilon, indicating that the algorithm has converged to an optimal solution."
   ]
  },
  {
   "cell_type": "code",
   "execution_count": 180,
   "metadata": {},
   "outputs": [],
   "source": [
    "def stochastic_gradient_descent(X, y, learning_rate, iterations):\n",
    "    # Add a column of ones to the input matrix X\n",
    "    X = np.hstack((np.ones((X.shape[0], 1)), X))\n",
    "\n",
    "    # Initialize the weights with random values\n",
    "    w = np.random.randn(X.shape[1])\n",
    "\n",
    "    # Initialize an empty list to store the loss values\n",
    "    loss = []\n",
    "\n",
    "    # Perform the specified number of iterations\n",
    "    for _ in range(iterations):\n",
    "        # Choose a random index from the input data\n",
    "        ind = np.random.randint(0, X.shape[0])\n",
    "\n",
    "        # Calculate the gradient for the selected data point\n",
    "        grad = (X[ind] * (X[ind] @ w - y[ind])) / X.shape[0]\n",
    "\n",
    "        # Update the weights using the gradient and learning rate\n",
    "        w -= learning_rate * grad\n",
    "\n",
    "        # Calculate the loss value and append it to the loss list\n",
    "        loss_val = np.mean((X @ w - y) ** 2) / 2\n",
    "        loss.append(loss_val)\n",
    "\n",
    "        # Check for convergence\n",
    "        if np.linalg.norm(grad) < epsilon:\n",
    "            break\n",
    "\n",
    "    return w, loss"
   ]
  },
  {
   "cell_type": "markdown",
   "metadata": {
    "id": "ss8jAfZVz6bz"
   },
   "source": [
    "## Задание 3"
   ]
  },
  {
   "cell_type": "markdown",
   "metadata": {
    "id": "WnRlUa9Npi9o"
   },
   "source": [
    "- Обучите линейную регрессию тремя методами (по точной формуле, с помощью GD и с помощью SGD) на данных для задачи регрессии (см. код ниже). Для GD и самостоятельно написанного SGD используйте `learning_rate = 0.01, iterations = 10000`.\n",
    "\n",
    "- С помощью каждого метода сделайте предсказание (на всех данных), вычислите качество предсказания r2 (`from sklearn.metrics import r2_score`). Для получения предсказания можете использовать функцию `predict` из урока.\n"
   ]
  },
  {
   "cell_type": "code",
   "execution_count": 181,
   "metadata": {},
   "outputs": [],
   "source": [
    "learning_rate = 0.01\n",
    "iterations = 10000"
   ]
  },
  {
   "cell_type": "markdown",
   "metadata": {},
   "source": [
    "In the code snippet you provided, the underscore _ is used as a placeholder variable. It's a common convention in Python when you want to ignore a particular value returned by a function.\n",
    "\n",
    "In this case, the ```make_regression``` function from scikit-learn returns three values: the feature matrix X, the target values y, and the true coefficients coef. By assigning the third returned value to _, you're essentially saying that you don't need the true coefficients in your code, and you don't want to store them in a variable. This helps to keep the code clean and more readable."
   ]
  },
  {
   "cell_type": "markdown",
   "metadata": {},
   "source": [
    "### 3.1 Generate a synthetic dataset\n",
    "\n",
    "1. Import the make_regression function from the sklearn.datasets module.\n",
    "\n",
    "2. Set the random seed for reproducibility using np.random.seed(RANDOM_STATE), where RANDOM_STATE is a predefined constant.\n",
    "\n",
    "3. Generate a synthetic dataset for regression using the make_regression function with the following parameters:\n",
    "\n",
    "* n_samples=100000: Number of samples/objects in the dataset.\n",
    "* n_features=10: Number of features in the dataset.\n",
    "* n_informative=8: Number of informative features, which means only 8 out of the 10 features are useful for predicting the target variable y.\n",
    "* noise=100: The level of noise in the data.\n",
    "* coef=True: The true coefficients are generated as well, but they are ignored using the underscore _.\n",
    "* random_state=RANDOM_STATE: The random seed for reproducibility.\n",
    "\n",
    "4. Convert the generated X numpy array into a pandas DataFrame, and assign column names as integers from 0 to 9.\n",
    "\n",
    "5. Create a new column 10 in the DataFrame X by adding the values of columns 6 and 7, and then adding a small random value (between 0 and 0.01) to the result. This new column is a linear combination of columns 6 and 7 with some additional noise.\n",
    "\n",
    "In summary, the code generates a synthetic dataset for regression with 100,000 samples and 10 features, and then it creates a new feature."
   ]
  },
  {
   "cell_type": "code",
   "execution_count": 182,
   "metadata": {
    "id": "xSrUvQtcUHSA"
   },
   "outputs": [],
   "source": [
    "np.random.seed(RANDOM_STATE)\n",
    "\n",
    "X, y, _ = make_regression(n_samples=100000, # число объектов\n",
    "                          n_features=10, # число признаков\n",
    "                          n_informative=8, # число информативных признаков\n",
    "                          noise=100, # уровень шума в данных\n",
    "                          coef=True, # значение True используется при генерации данных\n",
    "                          random_state=RANDOM_STATE) \n",
    "\n",
    "X = pd.DataFrame(data=X, columns=np.arange(0, X.shape[1]))\n",
    "X[10] = X[6] + X[7] + np.random.random()*0.01"
   ]
  },
  {
   "cell_type": "code",
   "execution_count": 183,
   "metadata": {},
   "outputs": [
    {
     "data": {
      "text/plain": [
       "(100000,)"
      ]
     },
     "execution_count": 183,
     "metadata": {},
     "output_type": "execute_result"
    }
   ],
   "source": [
    "y.shape"
   ]
  },
  {
   "cell_type": "code",
   "execution_count": 184,
   "metadata": {},
   "outputs": [
    {
     "data": {
      "text/plain": [
       "(100000, 11)"
      ]
     },
     "execution_count": 184,
     "metadata": {},
     "output_type": "execute_result"
    }
   ],
   "source": [
    "X.shape"
   ]
  },
  {
   "cell_type": "code",
   "execution_count": 185,
   "metadata": {},
   "outputs": [
    {
     "data": {
      "text/html": [
       "<div>\n",
       "<style scoped>\n",
       "    .dataframe tbody tr th:only-of-type {\n",
       "        vertical-align: middle;\n",
       "    }\n",
       "\n",
       "    .dataframe tbody tr th {\n",
       "        vertical-align: top;\n",
       "    }\n",
       "\n",
       "    .dataframe thead th {\n",
       "        text-align: right;\n",
       "    }\n",
       "</style>\n",
       "<table border=\"1\" class=\"dataframe\">\n",
       "  <thead>\n",
       "    <tr style=\"text-align: right;\">\n",
       "      <th></th>\n",
       "      <th>0</th>\n",
       "      <th>1</th>\n",
       "      <th>2</th>\n",
       "      <th>3</th>\n",
       "      <th>4</th>\n",
       "      <th>5</th>\n",
       "      <th>6</th>\n",
       "      <th>7</th>\n",
       "      <th>8</th>\n",
       "      <th>9</th>\n",
       "      <th>10</th>\n",
       "    </tr>\n",
       "  </thead>\n",
       "  <tbody>\n",
       "    <tr>\n",
       "      <th>0</th>\n",
       "      <td>2.293832</td>\n",
       "      <td>-0.791425</td>\n",
       "      <td>-0.200109</td>\n",
       "      <td>0.086144</td>\n",
       "      <td>0.034758</td>\n",
       "      <td>0.524589</td>\n",
       "      <td>-0.916566</td>\n",
       "      <td>0.668250</td>\n",
       "      <td>1.897779</td>\n",
       "      <td>0.339168</td>\n",
       "      <td>-0.241351</td>\n",
       "    </tr>\n",
       "    <tr>\n",
       "      <th>1</th>\n",
       "      <td>0.955420</td>\n",
       "      <td>-1.138250</td>\n",
       "      <td>0.116961</td>\n",
       "      <td>0.792303</td>\n",
       "      <td>-0.218356</td>\n",
       "      <td>-0.171880</td>\n",
       "      <td>-1.120524</td>\n",
       "      <td>-0.875925</td>\n",
       "      <td>-2.501619</td>\n",
       "      <td>-1.600241</td>\n",
       "      <td>-1.989484</td>\n",
       "    </tr>\n",
       "    <tr>\n",
       "      <th>2</th>\n",
       "      <td>0.226105</td>\n",
       "      <td>0.924825</td>\n",
       "      <td>1.949432</td>\n",
       "      <td>1.479552</td>\n",
       "      <td>-0.222905</td>\n",
       "      <td>0.252337</td>\n",
       "      <td>-0.219371</td>\n",
       "      <td>0.087261</td>\n",
       "      <td>-0.977164</td>\n",
       "      <td>-0.458254</td>\n",
       "      <td>-0.125145</td>\n",
       "    </tr>\n",
       "    <tr>\n",
       "      <th>3</th>\n",
       "      <td>0.225711</td>\n",
       "      <td>-0.507294</td>\n",
       "      <td>1.867316</td>\n",
       "      <td>0.326930</td>\n",
       "      <td>-0.017601</td>\n",
       "      <td>-0.180377</td>\n",
       "      <td>-0.994641</td>\n",
       "      <td>0.408722</td>\n",
       "      <td>0.493563</td>\n",
       "      <td>1.108158</td>\n",
       "      <td>-0.578954</td>\n",
       "    </tr>\n",
       "    <tr>\n",
       "      <th>4</th>\n",
       "      <td>0.377563</td>\n",
       "      <td>0.226907</td>\n",
       "      <td>0.673986</td>\n",
       "      <td>1.413521</td>\n",
       "      <td>-0.429101</td>\n",
       "      <td>-0.746487</td>\n",
       "      <td>-0.347082</td>\n",
       "      <td>-3.246133</td>\n",
       "      <td>0.289081</td>\n",
       "      <td>-0.319875</td>\n",
       "      <td>-3.586250</td>\n",
       "    </tr>\n",
       "    <tr>\n",
       "      <th>...</th>\n",
       "      <td>...</td>\n",
       "      <td>...</td>\n",
       "      <td>...</td>\n",
       "      <td>...</td>\n",
       "      <td>...</td>\n",
       "      <td>...</td>\n",
       "      <td>...</td>\n",
       "      <td>...</td>\n",
       "      <td>...</td>\n",
       "      <td>...</td>\n",
       "      <td>...</td>\n",
       "    </tr>\n",
       "    <tr>\n",
       "      <th>99995</th>\n",
       "      <td>0.068327</td>\n",
       "      <td>-1.766741</td>\n",
       "      <td>-0.072809</td>\n",
       "      <td>-0.509457</td>\n",
       "      <td>-1.969839</td>\n",
       "      <td>-1.693062</td>\n",
       "      <td>1.206160</td>\n",
       "      <td>-0.977538</td>\n",
       "      <td>-0.184056</td>\n",
       "      <td>1.208122</td>\n",
       "      <td>0.235587</td>\n",
       "    </tr>\n",
       "    <tr>\n",
       "      <th>99996</th>\n",
       "      <td>-0.317709</td>\n",
       "      <td>1.188067</td>\n",
       "      <td>-0.274376</td>\n",
       "      <td>-1.362617</td>\n",
       "      <td>-0.411009</td>\n",
       "      <td>-0.881049</td>\n",
       "      <td>2.206406</td>\n",
       "      <td>-0.759358</td>\n",
       "      <td>-0.865832</td>\n",
       "      <td>0.496113</td>\n",
       "      <td>1.454012</td>\n",
       "    </tr>\n",
       "    <tr>\n",
       "      <th>99997</th>\n",
       "      <td>-0.118968</td>\n",
       "      <td>-0.386454</td>\n",
       "      <td>1.308897</td>\n",
       "      <td>-0.345917</td>\n",
       "      <td>1.538069</td>\n",
       "      <td>1.732036</td>\n",
       "      <td>-0.871773</td>\n",
       "      <td>0.420969</td>\n",
       "      <td>-0.270718</td>\n",
       "      <td>0.671808</td>\n",
       "      <td>-0.443839</td>\n",
       "    </tr>\n",
       "    <tr>\n",
       "      <th>99998</th>\n",
       "      <td>1.695554</td>\n",
       "      <td>-0.805424</td>\n",
       "      <td>1.509903</td>\n",
       "      <td>1.681546</td>\n",
       "      <td>1.043094</td>\n",
       "      <td>-0.057902</td>\n",
       "      <td>1.359833</td>\n",
       "      <td>0.440638</td>\n",
       "      <td>0.286433</td>\n",
       "      <td>0.114446</td>\n",
       "      <td>1.807436</td>\n",
       "    </tr>\n",
       "    <tr>\n",
       "      <th>99999</th>\n",
       "      <td>-0.075933</td>\n",
       "      <td>-1.347037</td>\n",
       "      <td>-0.437220</td>\n",
       "      <td>0.317029</td>\n",
       "      <td>-0.150387</td>\n",
       "      <td>-0.132509</td>\n",
       "      <td>-2.535587</td>\n",
       "      <td>-0.361872</td>\n",
       "      <td>-0.302188</td>\n",
       "      <td>0.933619</td>\n",
       "      <td>-2.890494</td>\n",
       "    </tr>\n",
       "  </tbody>\n",
       "</table>\n",
       "<p>100000 rows × 11 columns</p>\n",
       "</div>"
      ],
      "text/plain": [
       "             0         1         2         3         4         5         6   \\\n",
       "0      2.293832 -0.791425 -0.200109  0.086144  0.034758  0.524589 -0.916566   \n",
       "1      0.955420 -1.138250  0.116961  0.792303 -0.218356 -0.171880 -1.120524   \n",
       "2      0.226105  0.924825  1.949432  1.479552 -0.222905  0.252337 -0.219371   \n",
       "3      0.225711 -0.507294  1.867316  0.326930 -0.017601 -0.180377 -0.994641   \n",
       "4      0.377563  0.226907  0.673986  1.413521 -0.429101 -0.746487 -0.347082   \n",
       "...         ...       ...       ...       ...       ...       ...       ...   \n",
       "99995  0.068327 -1.766741 -0.072809 -0.509457 -1.969839 -1.693062  1.206160   \n",
       "99996 -0.317709  1.188067 -0.274376 -1.362617 -0.411009 -0.881049  2.206406   \n",
       "99997 -0.118968 -0.386454  1.308897 -0.345917  1.538069  1.732036 -0.871773   \n",
       "99998  1.695554 -0.805424  1.509903  1.681546  1.043094 -0.057902  1.359833   \n",
       "99999 -0.075933 -1.347037 -0.437220  0.317029 -0.150387 -0.132509 -2.535587   \n",
       "\n",
       "             7         8         9         10  \n",
       "0      0.668250  1.897779  0.339168 -0.241351  \n",
       "1     -0.875925 -2.501619 -1.600241 -1.989484  \n",
       "2      0.087261 -0.977164 -0.458254 -0.125145  \n",
       "3      0.408722  0.493563  1.108158 -0.578954  \n",
       "4     -3.246133  0.289081 -0.319875 -3.586250  \n",
       "...         ...       ...       ...       ...  \n",
       "99995 -0.977538 -0.184056  1.208122  0.235587  \n",
       "99996 -0.759358 -0.865832  0.496113  1.454012  \n",
       "99997  0.420969 -0.270718  0.671808 -0.443839  \n",
       "99998  0.440638  0.286433  0.114446  1.807436  \n",
       "99999 -0.361872 -0.302188  0.933619 -2.890494  \n",
       "\n",
       "[100000 rows x 11 columns]"
      ]
     },
     "execution_count": 185,
     "metadata": {},
     "output_type": "execute_result"
    }
   ],
   "source": [
    "X"
   ]
  },
  {
   "cell_type": "code",
   "execution_count": 186,
   "metadata": {},
   "outputs": [
    {
     "data": {
      "image/png": "[encoded data removed]",
      "text/plain": [
       "<Figure size 640x480 with 1 Axes>"
      ]
     },
     "metadata": {},
     "output_type": "display_data"
    }
   ],
   "source": [
    "# plt.scatter(X, y); для модели с одним признаком\n",
    "\n",
    "# для модели с несколькими признакоми - нарисовать ВСЕ признаки сразу\n",
    "# for i in range(10):\n",
    "#     plt.scatter(X.iloc[:, i], y)\n",
    "#     plt.xlabel(\"Feature \" + str(i))\n",
    "#     plt.ylabel(\"Target\")\n",
    "#     plt.show()\n",
    "\n",
    "plt.scatter(X.iloc[:, 0], y)\n",
    "plt.xlabel(\"Feature 0\")\n",
    "plt.ylabel(\"Target\")\n",
    "plt.show()"
   ]
  },
  {
   "cell_type": "markdown",
   "metadata": {},
   "source": [
    "### *Вывод:* Видим, что отношения далеко не линейны, поэтому можно сразу предположить, что R^2 для OLS-регрессии будет минимальным."
   ]
  },
  {
   "cell_type": "markdown",
   "metadata": {},
   "source": [
    "### 3.2 Apply three different models: OLS, GD and SGD\n",
    "\n",
    "#### 3.2.1 OLS"
   ]
  },
  {
   "cell_type": "code",
   "execution_count": 187,
   "metadata": {},
   "outputs": [
    {
     "name": "stdout",
     "output_type": "stream",
     "text": [
      "[  0.17692666  56.81470769  33.44509388  -0.2270649   39.66112946\n",
      "  -0.24582372  49.1592225  133.41794252 148.67386917  79.20386231\n",
      "  42.4712069  -60.9957614 ]\n"
     ]
    }
   ],
   "source": [
    "ols_weights = ols_solution(X, y)\n",
    "print(ols_weights)"
   ]
  },
  {
   "cell_type": "code",
   "execution_count": 201,
   "metadata": {},
   "outputs": [
    {
     "name": "stdout",
     "output_type": "stream",
     "text": [
      "R^2 score OLS:  0.7523155705375255\n",
      "CPU times: total: 0 ns\n",
      "Wall time: 4.11 ms\n"
     ]
    }
   ],
   "source": [
    "%%time\n",
    "def r2_score(y_true, y_pred):\n",
    "    y_mean = np.mean(y_true)\n",
    "    ss_tot = np.sum((y_true - y_mean) ** 2)\n",
    "    ss_res = np.sum((y_true - y_pred) ** 2)\n",
    "    r2 = 1 - (ss_res / ss_tot)\n",
    "    return r2\n",
    "\n",
    "y_pred = predict(X, ols_weights)\n",
    "r2_ols = r2_score(y, y_pred)\n",
    "print(\"R^2 score OLS: \", r2_ols)"
   ]
  },
  {
   "cell_type": "markdown",
   "metadata": {},
   "source": [
    "#### 3.2.2 Gradient Descent"
   ]
  },
  {
   "cell_type": "code",
   "execution_count": 202,
   "metadata": {
    "id": "O_MDhoXs5tkd"
   },
   "outputs": [
    {
     "name": "stdout",
     "output_type": "stream",
     "text": [
      "[-0.91191644 56.82455793 33.48291813 -0.24065452 39.64529367 -0.13585617\n",
      " 49.12295947 13.64189951 42.61759027 79.20386231 42.4712069  56.00246949]\n",
      "CPU times: total: 1.83 s\n",
      "Wall time: 7.1 s\n"
     ]
    }
   ],
   "source": [
    "%%time\n",
    "# применим градиентный спуск\n",
    "track, weights = gradient_descent(X, y, learning_rate, iterations)\n",
    "print(weights)"
   ]
  },
  {
   "cell_type": "code",
   "execution_count": 203,
   "metadata": {},
   "outputs": [
    {
     "data": {
      "image/png": "[encoded data removed]",
      "text/plain": [
       "<Figure size 640x480 with 1 Axes>"
      ]
     },
     "metadata": {},
     "output_type": "display_data"
    }
   ],
   "source": [
    "plt.plot(track);"
   ]
  },
  {
   "cell_type": "code",
   "execution_count": 204,
   "metadata": {},
   "outputs": [
    {
     "name": "stdout",
     "output_type": "stream",
     "text": [
      "R^2 score GD:  0.7554626185750483\n",
      "CPU times: total: 0 ns\n",
      "Wall time: 5.43 ms\n"
     ]
    }
   ],
   "source": [
    "%%time\n",
    "def r2_score(y_true, y_pred):\n",
    "    y_mean = np.mean(y_true)\n",
    "    ss_tot = np.sum((y_true - y_mean) ** 2)\n",
    "    ss_res = np.sum((y_true - y_pred) ** 2)\n",
    "    r2 = 1 - (ss_res / ss_tot)\n",
    "    return r2\n",
    "\n",
    "y_pred = predict(X, weights)\n",
    "r2_gd = r2_score(y, y_pred)\n",
    "print(\"R^2 score GD: \", r2_gd)"
   ]
  },
  {
   "cell_type": "markdown",
   "metadata": {},
   "source": [
    "#### 3.2.3 Stochastic Gradient Descent"
   ]
  },
  {
   "cell_type": "code",
   "execution_count": 205,
   "metadata": {},
   "outputs": [
    {
     "name": "stdout",
     "output_type": "stream",
     "text": [
      "[20386.597665345413, 20386.58806989787, 20386.574792002182, 20386.573107447137, 20386.575410910416, 20386.57408626977, 20386.574111240414]\n",
      "CPU times: total: 0 ns\n",
      "Wall time: 6.96 ms\n"
     ]
    }
   ],
   "source": [
    "%%time\n",
    "# применим SGD\n",
    "sgd_weights, loss = stochastic_gradient_descent(X, y, learning_rate, iterations)\n",
    "print(loss)"
   ]
  },
  {
   "cell_type": "code",
   "execution_count": 206,
   "metadata": {},
   "outputs": [
    {
     "data": {
      "image/png": "[encoded data removed]",
      "text/plain": [
       "<Figure size 640x480 with 1 Axes>"
      ]
     },
     "metadata": {},
     "output_type": "display_data"
    }
   ],
   "source": [
    "plt.plot(sgd_weights);"
   ]
  },
  {
   "cell_type": "code",
   "execution_count": 207,
   "metadata": {},
   "outputs": [
    {
     "name": "stdout",
     "output_type": "stream",
     "text": [
      "R^2 score SGD:  0.0011665392767903349\n"
     ]
    }
   ],
   "source": [
    "y_pred_sgd = predict(X, sgd_weights)\n",
    "r2_sgd = r2_score(y, y_pred_sgd)\n",
    "print(\"R^2 score SGD: \", r2_sgd)"
   ]
  },
  {
   "cell_type": "code",
   "execution_count": 208,
   "metadata": {},
   "outputs": [
    {
     "name": "stdout",
     "output_type": "stream",
     "text": [
      "R^2 score OLS:  0.7523155705375255\n",
      "R^2 score GD:  0.7554626185750483\n",
      "R^2 score SGD:  0.0011665392767903349\n"
     ]
    }
   ],
   "source": [
    "print(\"R^2 score OLS: \", r2_ols)\n",
    "print(\"R^2 score GD: \", r2_gd)\n",
    "print(\"R^2 score SGD: \", r2_sgd)"
   ]
  },
  {
   "cell_type": "code",
   "execution_count": 209,
   "metadata": {},
   "outputs": [
    {
     "data": {
      "image/png": "[encoded data removed]",
      "text/plain": [
       "<Figure size 640x480 with 1 Axes>"
      ]
     },
     "metadata": {},
     "output_type": "display_data"
    }
   ],
   "source": [
    "r2_scores = [r2_ols, r2_gd, r2_sgd]\n",
    "models = ['OLS', 'Gradient Descent', 'Stochastic Gradient Descent']\n",
    "\n",
    "plt.bar(models, r2_scores)\n",
    "plt.xlabel('Model')\n",
    "plt.ylabel('R^2 score')\n",
    "plt.show();"
   ]
  },
  {
   "cell_type": "markdown",
   "metadata": {
    "id": "q5-LlK5X0Hdj"
   },
   "source": [
    "**Вопросы по заданию**\n",
    "\n",
    "1) все ли методы справились с нахождением минимума? \n",
    "\n",
    "2) сравните время работы методов (используйте библиотеку `time`): замеряйте время работы соответствующей написанной вами функции. Какой метод сработал быстрее всего?\n",
    "\n",
    "3) для методов GD и SGD нарисуйте графики (для каждого свой) зависимости ошибки (loss) от номера итерации. Какой метод сходится быстрее? Выведите на экран значение r2 для наилучшей из моделей.\n",
    "\n",
    "4) какой метод успешнее всего справился с задачей? (т.е. r2 наибольший)."
   ]
  },
  {
   "attachments": {
    "image.png": {
     "image/png": "[encoded data removed]"
    }
   },
   "cell_type": "markdown",
   "metadata": {},
   "source": [
    "### *Conclusion:* The stochastic gradient descent model has the worst fit, as the R^2 score is close to 0.\n",
    "![image.png](attachment:image.png)\n"
   ]
  },
  {
   "cell_type": "code",
   "execution_count": 197,
   "metadata": {},
   "outputs": [
    {
     "name": "stdout",
     "output_type": "stream",
     "text": [
      "MSE for OLS: 10110.668446731785\n",
      "RMSE for GD: 100.55181970870434\n",
      "\n",
      "MSE for GD: 9982.203531265022\n",
      "RMSE for GD: 99.91097803177098\n",
      "\n",
      "MSE for SGD: 40075.52629649478\n",
      "RMSE for SGD: 200.18872669682173\n"
     ]
    }
   ],
   "source": [
    "from sklearn.metrics import mean_squared_error\n",
    "\n",
    "# OLS\n",
    "y_pred_ols = predict(X, ols_weights)\n",
    "mse_ols = mean_squared_error(y, y_pred_ols)\n",
    "rmse_ols = np.sqrt(mse_ols)\n",
    "print(\"MSE for OLS:\", mse_ols)\n",
    "print(\"RMSE for GD:\", rmse_ols)\n",
    "print()\n",
    "# GD\n",
    "y_pred_gd = predict(X, weights)\n",
    "mse_gd = mean_squared_error(y, y_pred_gd)\n",
    "rmse_gd = np.sqrt(mse_gd)\n",
    "print(\"MSE for GD:\", mse_gd)\n",
    "print(\"RMSE for GD:\", rmse_gd)\n",
    "print()\n",
    "# SGD\n",
    "y_pred_sgd = predict(X, sgd_weights)\n",
    "mse_sgd = mean_squared_error(y, y_pred_sgd)\n",
    "rmse_sgd = np.sqrt(mse_sgd)\n",
    "print(\"MSE for SGD:\", mse_sgd)\n",
    "print(\"RMSE for SGD:\", rmse_sgd)\n"
   ]
  },
  {
   "cell_type": "markdown",
   "metadata": {},
   "source": [
    "### *Conclusion:* Лучше всего справляется с предсказаниями градиентный спуск."
   ]
  },
  {
   "cell_type": "markdown",
   "metadata": {
    "id": "7Lne3c3I1swS"
   },
   "source": [
    "## Тестирование моделей на реальных данных\n",
    "\n",
    "В реальных задачах никто не пишет методы с нуля, если они уже реализованы в python. Самостоятельная реализация методов полезна для получения навыков программирования и более глубокого понимания алгоритмов.\n",
    "\n",
    "Давайте применим уже готовые методы из `sklearn` для решения задачи регрессии."
   ]
  },
  {
   "cell_type": "code",
   "execution_count": 127,
   "metadata": {
    "id": "qUhkRgYm1usp"
   },
   "outputs": [],
   "source": [
    "from sklearn.datasets import fetch_california_housing\n",
    "\n",
    "data = fetch_california_housing(as_frame=True)\n",
    "\n",
    "X = data.data\n",
    "y = data.target"
   ]
  },
  {
   "cell_type": "markdown",
   "metadata": {
    "id": "BlsxS_mb18A8"
   },
   "source": [
    "Разобъем данные на трейн и тест."
   ]
  },
  {
   "cell_type": "code",
   "execution_count": 96,
   "metadata": {
    "id": "tKKC-nWE13ek"
   },
   "outputs": [],
   "source": [
    "from sklearn.model_selection import train_test_split\n",
    "\n",
    "X_train, X_test, y_train, y_test = train_test_split(\n",
    "    X,\n",
    "    y, \n",
    "    train_size=TRAIN_SIZE, \n",
    "    random_state=RANDOM_STATE\n",
    "    )"
   ]
  },
  {
   "cell_type": "markdown",
   "metadata": {
    "id": "1nxiq6Uq2K47"
   },
   "source": [
    "Для решения этой задачи попробуйте следующие модели:\n",
    "\n",
    "* `LinearRegression` из `sklearn`\n",
    "* `SGDRegressor` из `sklearn`\n",
    "\n",
    "Обучите модели на тренировочных данных с параметрами по умолчанию и сделайте предсказание на тесте.  \n",
    "Вычислите значение $R^2$."
   ]
  },
  {
   "cell_type": "code",
   "execution_count": 126,
   "metadata": {
    "id": "PdoNyLJy165x"
   },
   "outputs": [
    {
     "name": "stdout",
     "output_type": "stream",
     "text": [
      "R^2 score for LinearRegression: 0.5910509795491354\n",
      "R^2 score for SGDRegressor: -3.271911781437445e+30\n"
     ]
    }
   ],
   "source": [
    "from sklearn.linear_model import LinearRegression, SGDRegressor\n",
    "from sklearn.metrics import r2_score\n",
    "\n",
    "# Fit the LinearRegression model to the training data\n",
    "lin_reg = LinearRegression()\n",
    "lin_reg.fit(X_train, y_train)\n",
    "\n",
    "# Make predictions on the test data using the LinearRegression model\n",
    "y_pred_lin_reg = lin_reg.predict(X_test)\n",
    "\n",
    "# Calculate the R^2 value for the LinearRegression model\n",
    "r2_lin_reg = r2_score(y_test, y_pred_lin_reg)\n",
    "print(\"R^2 score for LinearRegression:\", r2_lin_reg)\n",
    "\n",
    "# Fit the SGDRegressor model to the training data\n",
    "sgd_reg = SGDRegressor()\n",
    "sgd_reg.fit(X_train, y_train)\n",
    "\n",
    "# Make predictions on the test data using the SGDRegressor model\n",
    "y_pred_sgd_reg = sgd_reg.predict(X_test)\n",
    "\n",
    "# Calculate the R^2 value for the SGDRegressor model\n",
    "r2_sgd_reg = r2_score(y_test, y_pred_sgd_reg)\n",
    "print(\"R^2 score for SGDRegressor:\", r2_sgd_reg)"
   ]
  },
  {
   "cell_type": "code",
   "execution_count": null,
   "metadata": {},
   "outputs": [],
   "source": []
  }
 ],
 "metadata": {
  "colab": {
   "provenance": []
  },
  "kernelspec": {
   "display_name": "Python 3 (ipykernel)",
   "language": "python",
   "name": "python3"
  },
  "language_info": {
   "codemirror_mode": {
    "name": "ipython",
    "version": 3
   },
   "file_extension": ".py",
   "mimetype": "text/x-python",
   "name": "python",
   "nbconvert_exporter": "python",
   "pygments_lexer": "ipython3",
   "version": "3.9.13"
  }
 },
 "nbformat": 4,
 "nbformat_minor": 1
}
