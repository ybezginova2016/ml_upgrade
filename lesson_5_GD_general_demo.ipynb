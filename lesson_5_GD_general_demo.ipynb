{
 "nbformat": 4,
 "nbformat_minor": 0,
 "metadata": {
  "colab": {
   "provenance": []
  },
  "kernelspec": {
   "name": "python3",
   "display_name": "Python 3"
  },
  "language_info": {
   "name": "python"
  }
 },
 "cells": [
  {
   "cell_type": "markdown",
   "source": [
    "# Градиентный спуск для функции нескольких переменных"
   ],
   "metadata": {
    "id": "fyWVcELDi0Js"
   }
  },
  {
   "cell_type": "markdown",
   "source": [
    "## Импорт библиотек"
   ],
   "metadata": {
    "id": "X2m297r3i4ot"
   }
  },
  {
   "cell_type": "code",
   "source": [
    "import pandas as pd\n",
    "import numpy as np"
   ],
   "metadata": {
    "id": "gpr6PSOIi_Dw"
   },
   "execution_count": 1,
   "outputs": []
  },
  {
   "cell_type": "code",
   "source": [
    "RANDOM_STATE = 42\n",
    "np.random.RandomState(RANDOM_STATE);"
   ],
   "metadata": {
    "id": "qPzY_DPmo0LJ"
   },
   "execution_count": 2,
   "outputs": []
  },
  {
   "cell_type": "markdown",
   "source": [
    "## Практика"
   ],
   "metadata": {
    "id": "jrFrrjNTi728"
   }
  },
  {
   "cell_type": "markdown",
   "source": [
    "Создадим таблицу с обучающими данными."
   ],
   "metadata": {
    "id": "pJSE24FgXnxV"
   }
  },
  {
   "cell_type": "code",
   "execution_count": 3,
   "metadata": {
    "colab": {
     "base_uri": "https://localhost:8080/",
     "height": 164
    },
    "id": "Jbfmn10SWj2L",
    "outputId": "0c416df8-9761-4dfc-ad4e-5c5974a44d8d"
   },
   "outputs": [
    {
     "data": {
      "text/plain": "   x1  x2    y\n0  10  40  100\n1   5  36   73\n2   7  30   71",
      "text/html": "<div>\n<style scoped>\n    .dataframe tbody tr th:only-of-type {\n        vertical-align: middle;\n    }\n\n    .dataframe tbody tr th {\n        vertical-align: top;\n    }\n\n    .dataframe thead th {\n        text-align: right;\n    }\n</style>\n<table border=\"1\" class=\"dataframe\">\n  <thead>\n    <tr style=\"text-align: right;\">\n      <th></th>\n      <th>x1</th>\n      <th>x2</th>\n      <th>y</th>\n    </tr>\n  </thead>\n  <tbody>\n    <tr>\n      <th>0</th>\n      <td>10</td>\n      <td>40</td>\n      <td>100</td>\n    </tr>\n    <tr>\n      <th>1</th>\n      <td>5</td>\n      <td>36</td>\n      <td>73</td>\n    </tr>\n    <tr>\n      <th>2</th>\n      <td>7</td>\n      <td>30</td>\n      <td>71</td>\n    </tr>\n  </tbody>\n</table>\n</div>"
     },
     "execution_count": 3,
     "metadata": {},
     "output_type": "execute_result"
    }
   ],
   "source": [
    "df = pd.DataFrame({'x1' : [10, 5, 7], 'x2' : [40, 36, 30], 'y' : [100, 73, 71]})\n",
    "df"
   ]
  },
  {
   "cell_type": "code",
   "source": [
    "def prediction(w, x1, x2):\n",
    "    return w[0] + w[1] * x1 + w[2] * x2"
   ],
   "metadata": {
    "id": "BysoJuQJYcb0"
   },
   "execution_count": 4,
   "outputs": []
  },
  {
   "cell_type": "code",
   "source": [
    "def grad_MSE(w, x1, x2, y):\n",
    "    dw0 = (2/3) * (w[0] + w[1]*x1 + w[2]*x2 - y)\n",
    "    dw1 = (2/3) * x1 * (w[0] + w[1]*x1 + w[2]*x2 - y)\n",
    "    dw2 = (2/3) * x2 * (w[0] + w[1]*x1 + w[2]*x2 - y)\n",
    "    \n",
    "    return np.array([dw0, dw1, dw2])"
   ],
   "metadata": {
    "id": "18TeSTTxYG-7"
   },
   "execution_count": 5,
   "outputs": []
  },
  {
   "cell_type": "code",
   "source": [
    "grad_MSE((1, 1, 1), 10, 40, 100)"
   ],
   "metadata": {
    "colab": {
     "base_uri": "https://localhost:8080/"
    },
    "id": "RSA3AbpQmNHs",
    "outputId": "ebd6c790-f34e-4f73-ea02-00290572aa45"
   },
   "execution_count": 6,
   "outputs": [
    {
     "data": {
      "text/plain": "array([  -32.66666667,  -326.66666667, -1306.66666667])"
     },
     "execution_count": 6,
     "metadata": {},
     "output_type": "execute_result"
    }
   ]
  },
  {
   "cell_type": "code",
   "source": [
    "def gradient_descent(data, w_start, learning_rate, num_iterations):\n",
    "    w_curr = w_start\n",
    "\n",
    "    for i in range(num_iterations):\n",
    "      GradMSE = np.zeros(3)\n",
    "      for _, row in data.iterrows():\n",
    "          x1, x2, y = row\n",
    "          GradMSE += grad_MSE(w_curr,x1,x2,y)\n",
    "\n",
    "      w_new = w_curr - learning_rate * GradMSE\n",
    "\n",
    "      w_curr = w_new\n",
    "\n",
    "    return w_curr"
   ],
   "metadata": {
    "id": "aRWGG6BfXiTE"
   },
   "execution_count": 7,
   "outputs": []
  },
  {
   "cell_type": "code",
   "source": [
    "gradient_descent(df, np.random.rand(3), 0.0001, 5000)"
   ],
   "metadata": {
    "id": "Hu4ZZxZNaKsO",
    "colab": {
     "base_uri": "https://localhost:8080/"
    },
    "outputId": "6f94cfe4-8534-45cd-b6f8-e8108b53e96e"
   },
   "execution_count": 8,
   "outputs": [
    {
     "data": {
      "text/plain": "array([0.37254436, 3.95086494, 1.47460805])"
     },
     "execution_count": 8,
     "metadata": {},
     "output_type": "execute_result"
    }
   ]
  },
  {
   "cell_type": "markdown",
   "source": [
    "### Модель обучена, можно делать предсказания на новых объектах."
   ],
   "metadata": {
    "collapsed": false
   }
  }
 ]
}
