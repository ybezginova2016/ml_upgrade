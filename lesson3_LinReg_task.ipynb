{
 "cells": [
  {
   "cell_type": "markdown",
   "metadata": {
    "id": "S-Nk7D6JSrS4"
   },
   "source": [
    "# Линейная регрессия. Работа с признаками"
   ]
  },
  {
   "cell_type": "markdown",
   "source": [
    "## Описание задачи и загрузка данных"
   ],
   "metadata": {
    "id": "8XVxYkdydhAi"
   }
  },
  {
   "cell_type": "code",
   "execution_count": 1,
   "metadata": {
    "id": "30SvusWoSrS9"
   },
   "outputs": [],
   "source": [
    "import numpy as np\n",
    "import pandas as pd\n",
    "import matplotlib.pyplot as plt"
   ]
  },
  {
   "cell_type": "markdown",
   "metadata": {
    "id": "CyFVaQsQSrS-"
   },
   "source": [
    "В этом задании мы рассмотрим различные аспекты построения линейной модели. Мы будем работать с одним из классических наборов данных в статистике, содержащим информацию о бриллиантах. Описание можно посмотреть [здесь](https://www.kaggle.com/shivam2503/diamonds)."
   ]
  },
  {
   "cell_type": "code",
   "execution_count": 2,
   "metadata": {
    "id": "-HIO2yliSrS-"
   },
   "outputs": [
    {
     "data": {
      "text/plain": "   Unnamed: 0  carat      cut color clarity  depth  table  price     x     y  \\\n0           1   0.23    Ideal     E     SI2   61.5   55.0    326  3.95  3.98   \n1           2   0.21  Premium     E     SI1   59.8   61.0    326  3.89  3.84   \n2           3   0.23     Good     E     VS1   56.9   65.0    327  4.05  4.07   \n3           4   0.29  Premium     I     VS2   62.4   58.0    334  4.20  4.23   \n4           5   0.31     Good     J     SI2   63.3   58.0    335  4.34  4.35   \n\n      z  \n0  2.43  \n1  2.31  \n2  2.31  \n3  2.63  \n4  2.75  ",
      "text/html": "<div>\n<style scoped>\n    .dataframe tbody tr th:only-of-type {\n        vertical-align: middle;\n    }\n\n    .dataframe tbody tr th {\n        vertical-align: top;\n    }\n\n    .dataframe thead th {\n        text-align: right;\n    }\n</style>\n<table border=\"1\" class=\"dataframe\">\n  <thead>\n    <tr style=\"text-align: right;\">\n      <th></th>\n      <th>Unnamed: 0</th>\n      <th>carat</th>\n      <th>cut</th>\n      <th>color</th>\n      <th>clarity</th>\n      <th>depth</th>\n      <th>table</th>\n      <th>price</th>\n      <th>x</th>\n      <th>y</th>\n      <th>z</th>\n    </tr>\n  </thead>\n  <tbody>\n    <tr>\n      <th>0</th>\n      <td>1</td>\n      <td>0.23</td>\n      <td>Ideal</td>\n      <td>E</td>\n      <td>SI2</td>\n      <td>61.5</td>\n      <td>55.0</td>\n      <td>326</td>\n      <td>3.95</td>\n      <td>3.98</td>\n      <td>2.43</td>\n    </tr>\n    <tr>\n      <th>1</th>\n      <td>2</td>\n      <td>0.21</td>\n      <td>Premium</td>\n      <td>E</td>\n      <td>SI1</td>\n      <td>59.8</td>\n      <td>61.0</td>\n      <td>326</td>\n      <td>3.89</td>\n      <td>3.84</td>\n      <td>2.31</td>\n    </tr>\n    <tr>\n      <th>2</th>\n      <td>3</td>\n      <td>0.23</td>\n      <td>Good</td>\n      <td>E</td>\n      <td>VS1</td>\n      <td>56.9</td>\n      <td>65.0</td>\n      <td>327</td>\n      <td>4.05</td>\n      <td>4.07</td>\n      <td>2.31</td>\n    </tr>\n    <tr>\n      <th>3</th>\n      <td>4</td>\n      <td>0.29</td>\n      <td>Premium</td>\n      <td>I</td>\n      <td>VS2</td>\n      <td>62.4</td>\n      <td>58.0</td>\n      <td>334</td>\n      <td>4.20</td>\n      <td>4.23</td>\n      <td>2.63</td>\n    </tr>\n    <tr>\n      <th>4</th>\n      <td>5</td>\n      <td>0.31</td>\n      <td>Good</td>\n      <td>J</td>\n      <td>SI2</td>\n      <td>63.3</td>\n      <td>58.0</td>\n      <td>335</td>\n      <td>4.34</td>\n      <td>4.35</td>\n      <td>2.75</td>\n    </tr>\n  </tbody>\n</table>\n</div>"
     },
     "execution_count": 2,
     "metadata": {},
     "output_type": "execute_result"
    }
   ],
   "source": [
    "data = pd.read_csv('https://raw.githubusercontent.com/evgpat/edu_stepik_practical_ml/main/datasets/diamonds.csv')\n",
    "data.head(5)"
   ]
  },
  {
   "cell_type": "markdown",
   "source": [
    "Посмотрим на типы столбцов."
   ],
   "metadata": {
    "id": "rUL_m2KVK39v"
   }
  },
  {
   "cell_type": "code",
   "execution_count": 3,
   "metadata": {
    "id": "xcJlwyrgUUE3"
   },
   "outputs": [
    {
     "data": {
      "text/plain": "Unnamed: 0      int64\ncarat         float64\ncut            object\ncolor          object\nclarity        object\ndepth         float64\ntable         float64\nprice           int64\nx             float64\ny             float64\nz             float64\ndtype: object"
     },
     "execution_count": 3,
     "metadata": {},
     "output_type": "execute_result"
    }
   ],
   "source": [
    "data.dtypes"
   ]
  },
  {
   "cell_type": "markdown",
   "metadata": {
    "id": "Ro9c3tbbSrS-"
   },
   "source": [
    "Мы будем решать задачу предсказания цены бриллианта `price` в зависимости от его характеристик."
   ]
  },
  {
   "cell_type": "markdown",
   "metadata": {
    "id": "hdVZhwpBSrS_"
   },
   "source": [
    "## Построение модели"
   ]
  },
  {
   "cell_type": "markdown",
   "metadata": {
    "id": "aa1KZtU-SrS_"
   },
   "source": [
    "### Задание 1"
   ]
  },
  {
   "cell_type": "markdown",
   "source": [
    "Есть ли в наборе данных пропущенные значения? Если да, удалите их. \n",
    "\n",
    "Также выведите на экран число пропусков в каждом столбце."
   ],
   "metadata": {
    "id": "rI5PnSLtdp3B"
   }
  },
  {
   "cell_type": "code",
   "execution_count": 4,
   "metadata": {
    "id": "ebV5X3S9SrS_"
   },
   "outputs": [],
   "source": [
    "# your code here"
   ]
  },
  {
   "cell_type": "markdown",
   "metadata": {
    "id": "O1gMd6T1SrS_"
   },
   "source": [
    "### Задача 2"
   ]
  },
  {
   "cell_type": "markdown",
   "source": [
    "Есть ли в наборе данных бессмысленные столбцы (признаки, не несущие дополнительной информации)?  \n",
    "Если да, то удалите их. "
   ],
   "metadata": {
    "id": "0Y9xswurduRh"
   }
  },
  {
   "cell_type": "code",
   "execution_count": null,
   "metadata": {
    "id": "7DX20kQiSrTA"
   },
   "outputs": [],
   "source": [
    "# your code here"
   ]
  },
  {
   "cell_type": "markdown",
   "metadata": {
    "id": "zo8C8NYiSrTA"
   },
   "source": [
    "### Задание 3"
   ]
  },
  {
   "cell_type": "markdown",
   "source": [
    "Линейная регрессия основана на предположении о линейной связи между признаками и целевой переменной, а потому перед выбором переменных для включения в модель имеет смысл проверить, насколько эта связь выполняется. Для следующих пунктов нам также потребуются корреляции между признаками.  \n",
    "Выведите матрицу корреляций между всеми вещественными признаками и целевой переменной.\n",
    "\n",
    "Какой вещественный признак коррелирует с целевой переменной больше всего?"
   ],
   "metadata": {
    "id": "-zTj1CK4dzw2"
   }
  },
  {
   "cell_type": "code",
   "execution_count": null,
   "metadata": {
    "id": "wVq4XjF0SrTA"
   },
   "outputs": [],
   "source": [
    "# your code here"
   ]
  },
  {
   "cell_type": "markdown",
   "metadata": {
    "id": "-Y1RDbBSSrTA"
   },
   "source": [
    "### Задание 4"
   ]
  },
  {
   "cell_type": "markdown",
   "source": [
    "Так как линейная модель складывает значения признаков с некоторыми весами, нам нужно аккуратно обработать категориальные признаки. Закодируйте категориальные переменные при помощи OneHot-кодирования ([`pd.get_dummies`](https://pandas.pydata.org/pandas-docs/stable/reference/api/pandas.get_dummies.html)). Не забудьте поставить значение параметра `drop_first` равным `True`.\n",
    "\n",
    "Сколько получилось столбцов в таблице `data`?"
   ],
   "metadata": {
    "id": "fSyD5okwd5fq"
   }
  },
  {
   "cell_type": "code",
   "execution_count": null,
   "metadata": {
    "id": "VYKOY6tuSrTB"
   },
   "outputs": [],
   "source": [
    "# your code here"
   ]
  },
  {
   "cell_type": "markdown",
   "metadata": {
    "id": "086OYMdXSrTB"
   },
   "source": [
    "### Задание 5"
   ]
  },
  {
   "cell_type": "markdown",
   "source": [
    "Создайте матрицу `X`, содержащую все признаки, и не содержащую целевую переменную `price`. Также создайте вектор `y`, содержащий целевую переменную `price`."
   ],
   "metadata": {
    "id": "nv-XrWeAV_zh"
   }
  },
  {
   "cell_type": "code",
   "source": [
    "# your code here"
   ],
   "metadata": {
    "id": "UpGgtH_EWCON"
   },
   "execution_count": null,
   "outputs": []
  },
  {
   "cell_type": "markdown",
   "source": [
    "Разделите выборку на тренировочную и тестовую. Долю тестовой выборки укажите равной `0.3`.\n",
    "\n",
    "При разбиении укажите `random_state = 42`."
   ],
   "metadata": {
    "id": "Qky2En52eDPj"
   }
  },
  {
   "cell_type": "code",
   "execution_count": null,
   "metadata": {
    "id": "gMwY5R_aSrTB"
   },
   "outputs": [],
   "source": [
    "from sklearn.model_selection import train_test_split\n",
    "\n",
    "Xtrain, Xtest, ytrain, ytest = # your code here"
   ]
  },
  {
   "cell_type": "markdown",
   "metadata": {
    "id": "OEEFDQLSSrTB"
   },
   "source": [
    "### Задание 6"
   ]
  },
  {
   "cell_type": "markdown",
   "source": [
    "Зачастую при использовании линейных моделей вещественные признаки масштабируются.  В этой задаче масштабируйте вещественные признаки тренировочной и тестовой выборок при помощи модуля `StandardScaler`.\n",
    "\n",
    "*  Обучите (`fit`) scaler на тренировочных данных\n",
    "*  Преобразуйте (`transform`) и трейн, и тест\n",
    "\n",
    "После применения масштабирования матрица перестает быть объектом `pandas.DataFrame` - решите эту проблему."
   ],
   "metadata": {
    "id": "pfSlapoAeIIl"
   }
  },
  {
   "cell_type": "code",
   "execution_count": null,
   "metadata": {
    "id": "9aOjwTvmSrTB"
   },
   "outputs": [],
   "source": [
    "from sklearn.preprocessing import StandardScaler\n",
    "\n",
    "# your code here"
   ]
  },
  {
   "cell_type": "markdown",
   "metadata": {
    "id": "zIwgPtL2SrTB"
   },
   "source": [
    "### Задание 7"
   ]
  },
  {
   "cell_type": "markdown",
   "source": [
    "Обучите линейную регрессию на тренировочной выборке. Выведите *r2-score* на тренировочной и тестовой выборках."
   ],
   "metadata": {
    "id": "LIZ8MooheRPK"
   }
  },
  {
   "cell_type": "code",
   "execution_count": null,
   "metadata": {
    "id": "OCMNtmamSrTB"
   },
   "outputs": [],
   "source": [
    "from sklearn.linear_model import LinearRegression\n",
    "from sklearn.metrics import r2_score\n",
    "\n",
    "# your code here"
   ]
  },
  {
   "cell_type": "markdown",
   "metadata": {
    "id": "C0wLt2-kSrTC"
   },
   "source": [
    "### Задание 8"
   ]
  },
  {
   "cell_type": "markdown",
   "source": [
    "Выведите на экран веса, которые линейная регрессия присвоила признакам. \n",
    "\n",
    "Какой признак имеет наибольший отрицательный вес? (наибольший по модулю среди всех отрицательных весов)"
   ],
   "metadata": {
    "id": "FQ54nIwteZR9"
   }
  },
  {
   "cell_type": "code",
   "execution_count": null,
   "metadata": {
    "id": "CMAjqVIYSrTC"
   },
   "outputs": [],
   "source": [
    "# your code here"
   ]
  },
  {
   "cell_type": "markdown",
   "metadata": {
    "id": "ReYl218rSrTC"
   },
   "source": [
    "## Попытка улучшить качество модели\n",
    "\n",
    "Данная часть является творческой, и задания в ней немного сложнее, чем предыдущие. \n",
    "\n",
    "Следующие вопросы не проверяются тестами."
   ]
  },
  {
   "cell_type": "markdown",
   "metadata": {
    "id": "VqkOA8yxSrTC"
   },
   "source": [
    "### Задание 9"
   ]
  },
  {
   "cell_type": "markdown",
   "source": [
    "Как можно заметить из анализа корреляционной матрицы в задании 3, между некоторыми признаками имеется сильная корреляция, что может быть индикатором проблемы *мультиколлинеарности*. Различия в порядке коэффициентов, выявленные в предыдущей задаче, также свидетельствуют об этом. Для решения этой проблемы можно либо исключить некоторые признаки из модели (например, если признак линейно зависим с какими-то другими, его можно исключить из модели, т.е. удалить из матрицы объект-признак и заново обучить модель).\n",
    "\n",
    "Удалите из матриц `Xtrain` и `Xtest` признак, который наиболее сильно коррелирует с остальными. Заново обучите модель и оцените её качество. Улучшилось ли качество модели?\n",
    "\n",
    "Попробуйте удалить какой-то другой признак (можете попробовать несколько вариантов). Помогло ли это улучшить качество модели?"
   ],
   "metadata": {
    "id": "DWx5nVCxezGv"
   }
  },
  {
   "cell_type": "code",
   "execution_count": null,
   "metadata": {
    "id": "qsbtY9ipSrTC"
   },
   "outputs": [],
   "source": [
    "# your code here"
   ]
  },
  {
   "cell_type": "markdown",
   "metadata": {
    "id": "g-hmiglmSrTC"
   },
   "source": [
    "### Задание 10"
   ]
  },
  {
   "cell_type": "markdown",
   "source": [
    "Иногда генерация новых признаков помогает модели лучше находить взаимосвязи между целевой переменной и признаками. Попробуйте придумать новые признаки и добавить их в модель.  \n",
    "\n",
    "Помогло ли это улучшить качество модели?"
   ],
   "metadata": {
    "id": "Vw7MsbEze485"
   }
  },
  {
   "cell_type": "code",
   "execution_count": null,
   "metadata": {
    "id": "ILGStgEPSrTC"
   },
   "outputs": [],
   "source": [
    "# your code here"
   ]
  }
 ],
 "metadata": {
  "colab": {
   "provenance": []
  },
  "kernelspec": {
   "display_name": "Python 3",
   "language": "python",
   "name": "python3"
  },
  "language_info": {
   "codemirror_mode": {
    "name": "ipython",
    "version": 3
   },
   "file_extension": ".py",
   "mimetype": "text/x-python",
   "name": "python",
   "nbconvert_exporter": "python",
   "pygments_lexer": "ipython3",
   "version": "3.7.6"
  }
 },
 "nbformat": 4,
 "nbformat_minor": 0
}
