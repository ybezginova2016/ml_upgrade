{
 "nbformat": 4,
 "nbformat_minor": 0,
 "metadata": {
  "colab": {
   "provenance": []
  },
  "kernelspec": {
   "name": "python3",
   "display_name": "Python 3"
  },
  "language_info": {
   "name": "python"
  }
 },
 "cells": [
  {
   "cell_type": "markdown",
   "source": [
    "Посмотрим, как обучать решающие деревья в python."
   ],
   "metadata": {
    "id": "aEjrLKUWphkM"
   }
  },
  {
   "cell_type": "code",
   "source": [
    "RANDOM_STATE = 42\n",
    "TEST_SIZE = 0.25"
   ],
   "metadata": {
    "id": "LZQpnHUtbBCt"
   },
   "execution_count": 1,
   "outputs": []
  },
  {
   "cell_type": "markdown",
   "source": [
    "Будем предсказывать стоимость домов в Калифорнии."
   ],
   "metadata": {
    "id": "mo9Q3X067oKs"
   }
  },
  {
   "cell_type": "code",
   "execution_count": 2,
   "metadata": {
    "id": "Fb_lAuz9VX6h"
   },
   "outputs": [],
   "source": [
    "from sklearn.datasets import fetch_california_housing\n",
    "\n",
    "data = fetch_california_housing(as_frame=True)\n",
    "\n",
    "X = data.data\n",
    "y = data.target"
   ]
  },
  {
   "cell_type": "code",
   "source": [
    "X.head()"
   ],
   "metadata": {
    "colab": {
     "base_uri": "https://localhost:8080/",
     "height": 221
    },
    "id": "fgN20z7fYybe",
    "outputId": "047b4304-7fbd-4004-cbf3-3117ba8add16"
   },
   "execution_count": 3,
   "outputs": [
    {
     "data": {
      "text/plain": "   MedInc  HouseAge  AveRooms  AveBedrms  Population  AveOccup  Latitude  \\\n0  8.3252      41.0  6.984127   1.023810       322.0  2.555556     37.88   \n1  8.3014      21.0  6.238137   0.971880      2401.0  2.109842     37.86   \n2  7.2574      52.0  8.288136   1.073446       496.0  2.802260     37.85   \n3  5.6431      52.0  5.817352   1.073059       558.0  2.547945     37.85   \n4  3.8462      52.0  6.281853   1.081081       565.0  2.181467     37.85   \n\n   Longitude  \n0    -122.23  \n1    -122.22  \n2    -122.24  \n3    -122.25  \n4    -122.25  ",
      "text/html": "<div>\n<style scoped>\n    .dataframe tbody tr th:only-of-type {\n        vertical-align: middle;\n    }\n\n    .dataframe tbody tr th {\n        vertical-align: top;\n    }\n\n    .dataframe thead th {\n        text-align: right;\n    }\n</style>\n<table border=\"1\" class=\"dataframe\">\n  <thead>\n    <tr style=\"text-align: right;\">\n      <th></th>\n      <th>MedInc</th>\n      <th>HouseAge</th>\n      <th>AveRooms</th>\n      <th>AveBedrms</th>\n      <th>Population</th>\n      <th>AveOccup</th>\n      <th>Latitude</th>\n      <th>Longitude</th>\n    </tr>\n  </thead>\n  <tbody>\n    <tr>\n      <th>0</th>\n      <td>8.3252</td>\n      <td>41.0</td>\n      <td>6.984127</td>\n      <td>1.023810</td>\n      <td>322.0</td>\n      <td>2.555556</td>\n      <td>37.88</td>\n      <td>-122.23</td>\n    </tr>\n    <tr>\n      <th>1</th>\n      <td>8.3014</td>\n      <td>21.0</td>\n      <td>6.238137</td>\n      <td>0.971880</td>\n      <td>2401.0</td>\n      <td>2.109842</td>\n      <td>37.86</td>\n      <td>-122.22</td>\n    </tr>\n    <tr>\n      <th>2</th>\n      <td>7.2574</td>\n      <td>52.0</td>\n      <td>8.288136</td>\n      <td>1.073446</td>\n      <td>496.0</td>\n      <td>2.802260</td>\n      <td>37.85</td>\n      <td>-122.24</td>\n    </tr>\n    <tr>\n      <th>3</th>\n      <td>5.6431</td>\n      <td>52.0</td>\n      <td>5.817352</td>\n      <td>1.073059</td>\n      <td>558.0</td>\n      <td>2.547945</td>\n      <td>37.85</td>\n      <td>-122.25</td>\n    </tr>\n    <tr>\n      <th>4</th>\n      <td>3.8462</td>\n      <td>52.0</td>\n      <td>6.281853</td>\n      <td>1.081081</td>\n      <td>565.0</td>\n      <td>2.181467</td>\n      <td>37.85</td>\n      <td>-122.25</td>\n    </tr>\n  </tbody>\n</table>\n</div>"
     },
     "execution_count": 3,
     "metadata": {},
     "output_type": "execute_result"
    }
   ]
  },
  {
   "cell_type": "markdown",
   "source": [
    "Разобъем данные на тренировочную и тестовые части. Обучим дерево на трейне и оценим качество ($R^2$) на тесте."
   ],
   "metadata": {
    "id": "_yQiVWYbakSM"
   }
  },
  {
   "cell_type": "code",
   "source": [
    "from sklearn.model_selection import train_test_split\n",
    "\n",
    "Xtrain, Xtest, ytrain, ytest = train_test_split(X, y, test_size = TEST_SIZE, random_state = RANDOM_STATE)"
   ],
   "metadata": {
    "id": "UdmKyDb0Z5yC"
   },
   "execution_count": 4,
   "outputs": []
  },
  {
   "cell_type": "code",
   "source": [
    "from sklearn.tree import DecisionTreeRegressor\n",
    "\n",
    "model = DecisionTreeRegressor()\n",
    "model.fit(Xtrain, ytrain)"
   ],
   "metadata": {
    "colab": {
     "base_uri": "https://localhost:8080/"
    },
    "id": "eIldBZ2Eai19",
    "outputId": "a4bbfda6-233f-4368-8d0a-8f9a752c3395"
   },
   "execution_count": 5,
   "outputs": [
    {
     "data": {
      "text/plain": "DecisionTreeRegressor()",
      "text/html": "<style>#sk-container-id-1 {color: black;background-color: white;}#sk-container-id-1 pre{padding: 0;}#sk-container-id-1 div.sk-toggleable {background-color: white;}#sk-container-id-1 label.sk-toggleable__label {cursor: pointer;display: block;width: 100%;margin-bottom: 0;padding: 0.3em;box-sizing: border-box;text-align: center;}#sk-container-id-1 label.sk-toggleable__label-arrow:before {content: \"▸\";float: left;margin-right: 0.25em;color: #696969;}#sk-container-id-1 label.sk-toggleable__label-arrow:hover:before {color: black;}#sk-container-id-1 div.sk-estimator:hover label.sk-toggleable__label-arrow:before {color: black;}#sk-container-id-1 div.sk-toggleable__content {max-height: 0;max-width: 0;overflow: hidden;text-align: left;background-color: #f0f8ff;}#sk-container-id-1 div.sk-toggleable__content pre {margin: 0.2em;color: black;border-radius: 0.25em;background-color: #f0f8ff;}#sk-container-id-1 input.sk-toggleable__control:checked~div.sk-toggleable__content {max-height: 200px;max-width: 100%;overflow: auto;}#sk-container-id-1 input.sk-toggleable__control:checked~label.sk-toggleable__label-arrow:before {content: \"▾\";}#sk-container-id-1 div.sk-estimator input.sk-toggleable__control:checked~label.sk-toggleable__label {background-color: #d4ebff;}#sk-container-id-1 div.sk-label input.sk-toggleable__control:checked~label.sk-toggleable__label {background-color: #d4ebff;}#sk-container-id-1 input.sk-hidden--visually {border: 0;clip: rect(1px 1px 1px 1px);clip: rect(1px, 1px, 1px, 1px);height: 1px;margin: -1px;overflow: hidden;padding: 0;position: absolute;width: 1px;}#sk-container-id-1 div.sk-estimator {font-family: monospace;background-color: #f0f8ff;border: 1px dotted black;border-radius: 0.25em;box-sizing: border-box;margin-bottom: 0.5em;}#sk-container-id-1 div.sk-estimator:hover {background-color: #d4ebff;}#sk-container-id-1 div.sk-parallel-item::after {content: \"\";width: 100%;border-bottom: 1px solid gray;flex-grow: 1;}#sk-container-id-1 div.sk-label:hover label.sk-toggleable__label {background-color: #d4ebff;}#sk-container-id-1 div.sk-serial::before {content: \"\";position: absolute;border-left: 1px solid gray;box-sizing: border-box;top: 0;bottom: 0;left: 50%;z-index: 0;}#sk-container-id-1 div.sk-serial {display: flex;flex-direction: column;align-items: center;background-color: white;padding-right: 0.2em;padding-left: 0.2em;position: relative;}#sk-container-id-1 div.sk-item {position: relative;z-index: 1;}#sk-container-id-1 div.sk-parallel {display: flex;align-items: stretch;justify-content: center;background-color: white;position: relative;}#sk-container-id-1 div.sk-item::before, #sk-container-id-1 div.sk-parallel-item::before {content: \"\";position: absolute;border-left: 1px solid gray;box-sizing: border-box;top: 0;bottom: 0;left: 50%;z-index: -1;}#sk-container-id-1 div.sk-parallel-item {display: flex;flex-direction: column;z-index: 1;position: relative;background-color: white;}#sk-container-id-1 div.sk-parallel-item:first-child::after {align-self: flex-end;width: 50%;}#sk-container-id-1 div.sk-parallel-item:last-child::after {align-self: flex-start;width: 50%;}#sk-container-id-1 div.sk-parallel-item:only-child::after {width: 0;}#sk-container-id-1 div.sk-dashed-wrapped {border: 1px dashed gray;margin: 0 0.4em 0.5em 0.4em;box-sizing: border-box;padding-bottom: 0.4em;background-color: white;}#sk-container-id-1 div.sk-label label {font-family: monospace;font-weight: bold;display: inline-block;line-height: 1.2em;}#sk-container-id-1 div.sk-label-container {text-align: center;}#sk-container-id-1 div.sk-container {/* jupyter's `normalize.less` sets `[hidden] { display: none; }` but bootstrap.min.css set `[hidden] { display: none !important; }` so we also need the `!important` here to be able to override the default hidden behavior on the sphinx rendered scikit-learn.org. See: https://github.com/scikit-learn/scikit-learn/issues/21755 */display: inline-block !important;position: relative;}#sk-container-id-1 div.sk-text-repr-fallback {display: none;}</style><div id=\"sk-container-id-1\" class=\"sk-top-container\"><div class=\"sk-text-repr-fallback\"><pre>DecisionTreeRegressor()</pre><b>In a Jupyter environment, please rerun this cell to show the HTML representation or trust the notebook. <br />On GitHub, the HTML representation is unable to render, please try loading this page with nbviewer.org.</b></div><div class=\"sk-container\" hidden><div class=\"sk-item\"><div class=\"sk-estimator sk-toggleable\"><input class=\"sk-toggleable__control sk-hidden--visually\" id=\"sk-estimator-id-1\" type=\"checkbox\" checked><label for=\"sk-estimator-id-1\" class=\"sk-toggleable__label sk-toggleable__label-arrow\">DecisionTreeRegressor</label><div class=\"sk-toggleable__content\"><pre>DecisionTreeRegressor()</pre></div></div></div></div></div>"
     },
     "execution_count": 5,
     "metadata": {},
     "output_type": "execute_result"
    }
   ]
  },
  {
   "cell_type": "code",
   "source": [
    "from sklearn.metrics import r2_score\n",
    "\n",
    "pred = model.predict(Xtest)\n",
    "\n",
    "r2_score(ytest, pred)"
   ],
   "metadata": {
    "colab": {
     "base_uri": "https://localhost:8080/"
    },
    "id": "RUS10-LHbQGc",
    "outputId": "edbec916-f412-47d4-bbc9-74ac55868119"
   },
   "execution_count": 6,
   "outputs": [
    {
     "data": {
      "text/plain": "0.6027829085576974"
     },
     "execution_count": 6,
     "metadata": {},
     "output_type": "execute_result"
    }
   ]
  },
  {
   "cell_type": "code",
   "source": [
    "pred_train = model.predict(Xtrain)\n",
    "\n",
    "r2_score(ytrain, pred_train)"
   ],
   "metadata": {
    "colab": {
     "base_uri": "https://localhost:8080/"
    },
    "id": "3-1QLcVTnWbn",
    "outputId": "aa976a4c-4ed5-46d5-858f-b38341d62bd9"
   },
   "execution_count": 7,
   "outputs": [
    {
     "data": {
      "text/plain": "1.0"
     },
     "execution_count": 7,
     "metadata": {},
     "output_type": "execute_result"
    }
   ]
  },
  {
   "cell_type": "markdown",
   "source": [
    "Дерево сильно переобучилось! \n",
    "\n",
    "Попробуем ограничить его по глубине."
   ],
   "metadata": {
    "id": "P9Xf1QvInb_V"
   }
  },
  {
   "cell_type": "code",
   "source": [
    "from matplotlib import pyplot as plt\n",
    "\n",
    "train_scores = []\n",
    "test_scores = []\n",
    "\n",
    "for depth in [2, 5, 8, 11, 14, 17, 20, 23, 26]:\n",
    "    model = DecisionTreeRegressor(max_depth = depth)\n",
    "    model.fit(Xtrain, ytrain)\n",
    "\n",
    "    pred_train = model.predict(Xtrain)\n",
    "    pred_test = model.predict(Xtest)\n",
    "\n",
    "    train_r2 = r2_score(ytrain, pred_train)\n",
    "    test_r2 = r2_score(ytest, pred_test)\n",
    "\n",
    "    train_scores.append(train_r2) \n",
    "    test_scores.append(test_r2)\n",
    "\n",
    "    print(depth, train_r2, test_r2)\n",
    "\n",
    "plt.plot(train_scores, color='blue')\n",
    "plt.plot(test_scores, color='red')\n",
    "plt.show()"
   ],
   "metadata": {
    "colab": {
     "base_uri": "https://localhost:8080/",
     "height": 434
    },
    "id": "39l-bbf6nglZ",
    "outputId": "5e5f7ff6-cddb-4f87-fc52-e71d54c50f7d"
   },
   "execution_count": 8,
   "outputs": [
    {
     "name": "stdout",
     "output_type": "stream",
     "text": [
      "2 0.45120526546918793 0.4308859489546041\n",
      "5 0.6307083244816962 0.6018796993971511\n",
      "8 0.7551678130970392 0.6773632917612694\n",
      "11 0.8675965023226979 0.6798988119244289\n",
      "14 0.9446411229582562 0.6385413314748589\n",
      "17 0.9828104995385228 0.6207305196937137\n",
      "20 0.995943271035502 0.6041600338107669\n",
      "23 0.9991749479711821 0.6060462485754865\n",
      "26 0.9999171373512237 0.6081951166677608\n"
     ]
    },
    {
     "data": {
      "text/plain": "<Figure size 640x480 with 1 Axes>",
      "image/png": "[encoded data removed]"
     },
     "metadata": {},
     "output_type": "display_data"
    }
   ]
  },
  {
   "cell_type": "markdown",
   "source": [
    "Кросс-валидация\n",
    "\n",
    "Судя по результатам эксперимента, оптимальная глубина дерева max_depth = 8. Но это мы узнали по конкретному разбиению на train-test.\n",
    "\n",
    "Чтобы не привязываться к конкретному разбиению, можно посмотреть качество модели по кросс-валидации. "
   ],
   "metadata": {
    "id": "BiHqOiLRpmp8"
   }
  },
  {
   "cell_type": "markdown",
   "source": [
    "![image.png](data:image/png;base64,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)"
   ],
   "metadata": {
    "id": "F9QV2v_38I57"
   }
  },
  {
   "cell_type": "code",
   "source": [
    "from sklearn.model_selection import cross_val_score\n",
    "\n",
    "model = DecisionTreeRegressor(max_depth = 8)\n",
    "\n",
    "cross_val_score(model, X, y, cv=3, scoring='r2')"
   ],
   "metadata": {
    "colab": {
     "base_uri": "https://localhost:8080/"
    },
    "id": "Lmb_YVcWpvmt",
    "outputId": "ada72a4c-3f34-4971-b1f6-ea834e9d41ba"
   },
   "execution_count": 9,
   "outputs": [
    {
     "data": {
      "text/plain": "array([0.47486122, 0.60492479, 0.46767808])"
     },
     "execution_count": 9,
     "metadata": {},
     "output_type": "execute_result"
    }
   ]
  },
  {
   "cell_type": "code",
   "source": [
    "cross_val_score(model, X, y, cv=3, scoring='r2').mean()"
   ],
   "metadata": {
    "colab": {
     "base_uri": "https://localhost:8080/"
    },
    "id": "1Ttqe92Fp_H4",
    "outputId": "87505fda-8225-499b-9d20-c3b89ed594c6"
   },
   "execution_count": 10,
   "outputs": [
    {
     "data": {
      "text/plain": "0.5152854131647411"
     },
     "execution_count": 10,
     "metadata": {},
     "output_type": "execute_result"
    }
   ]
  },
  {
   "cell_type": "markdown",
   "source": [
    "Решающее дерево можно визуализировать.\n",
    "\n",
    "Это очень удобно для интерпретации результатов."
   ],
   "metadata": {
    "id": "1tCKBUTgoZLA"
   }
  },
  {
   "cell_type": "code",
   "source": [
    "model = DecisionTreeRegressor(max_depth = 3)\n",
    "model.fit(Xtrain, ytrain)"
   ],
   "metadata": {
    "colab": {
     "base_uri": "https://localhost:8080/"
    },
    "id": "03ZuKQlSn62X",
    "outputId": "44b3df97-3b4e-42a9-c58b-e1c328384076"
   },
   "execution_count": 11,
   "outputs": [
    {
     "data": {
      "text/plain": "DecisionTreeRegressor(max_depth=3)",
      "text/html": "<style>#sk-container-id-2 {color: black;background-color: white;}#sk-container-id-2 pre{padding: 0;}#sk-container-id-2 div.sk-toggleable {background-color: white;}#sk-container-id-2 label.sk-toggleable__label {cursor: pointer;display: block;width: 100%;margin-bottom: 0;padding: 0.3em;box-sizing: border-box;text-align: center;}#sk-container-id-2 label.sk-toggleable__label-arrow:before {content: \"▸\";float: left;margin-right: 0.25em;color: #696969;}#sk-container-id-2 label.sk-toggleable__label-arrow:hover:before {color: black;}#sk-container-id-2 div.sk-estimator:hover label.sk-toggleable__label-arrow:before {color: black;}#sk-container-id-2 div.sk-toggleable__content {max-height: 0;max-width: 0;overflow: hidden;text-align: left;background-color: #f0f8ff;}#sk-container-id-2 div.sk-toggleable__content pre {margin: 0.2em;color: black;border-radius: 0.25em;background-color: #f0f8ff;}#sk-container-id-2 input.sk-toggleable__control:checked~div.sk-toggleable__content {max-height: 200px;max-width: 100%;overflow: auto;}#sk-container-id-2 input.sk-toggleable__control:checked~label.sk-toggleable__label-arrow:before {content: \"▾\";}#sk-container-id-2 div.sk-estimator input.sk-toggleable__control:checked~label.sk-toggleable__label {background-color: #d4ebff;}#sk-container-id-2 div.sk-label input.sk-toggleable__control:checked~label.sk-toggleable__label {background-color: #d4ebff;}#sk-container-id-2 input.sk-hidden--visually {border: 0;clip: rect(1px 1px 1px 1px);clip: rect(1px, 1px, 1px, 1px);height: 1px;margin: -1px;overflow: hidden;padding: 0;position: absolute;width: 1px;}#sk-container-id-2 div.sk-estimator {font-family: monospace;background-color: #f0f8ff;border: 1px dotted black;border-radius: 0.25em;box-sizing: border-box;margin-bottom: 0.5em;}#sk-container-id-2 div.sk-estimator:hover {background-color: #d4ebff;}#sk-container-id-2 div.sk-parallel-item::after {content: \"\";width: 100%;border-bottom: 1px solid gray;flex-grow: 1;}#sk-container-id-2 div.sk-label:hover label.sk-toggleable__label {background-color: #d4ebff;}#sk-container-id-2 div.sk-serial::before {content: \"\";position: absolute;border-left: 1px solid gray;box-sizing: border-box;top: 0;bottom: 0;left: 50%;z-index: 0;}#sk-container-id-2 div.sk-serial {display: flex;flex-direction: column;align-items: center;background-color: white;padding-right: 0.2em;padding-left: 0.2em;position: relative;}#sk-container-id-2 div.sk-item {position: relative;z-index: 1;}#sk-container-id-2 div.sk-parallel {display: flex;align-items: stretch;justify-content: center;background-color: white;position: relative;}#sk-container-id-2 div.sk-item::before, #sk-container-id-2 div.sk-parallel-item::before {content: \"\";position: absolute;border-left: 1px solid gray;box-sizing: border-box;top: 0;bottom: 0;left: 50%;z-index: -1;}#sk-container-id-2 div.sk-parallel-item {display: flex;flex-direction: column;z-index: 1;position: relative;background-color: white;}#sk-container-id-2 div.sk-parallel-item:first-child::after {align-self: flex-end;width: 50%;}#sk-container-id-2 div.sk-parallel-item:last-child::after {align-self: flex-start;width: 50%;}#sk-container-id-2 div.sk-parallel-item:only-child::after {width: 0;}#sk-container-id-2 div.sk-dashed-wrapped {border: 1px dashed gray;margin: 0 0.4em 0.5em 0.4em;box-sizing: border-box;padding-bottom: 0.4em;background-color: white;}#sk-container-id-2 div.sk-label label {font-family: monospace;font-weight: bold;display: inline-block;line-height: 1.2em;}#sk-container-id-2 div.sk-label-container {text-align: center;}#sk-container-id-2 div.sk-container {/* jupyter's `normalize.less` sets `[hidden] { display: none; }` but bootstrap.min.css set `[hidden] { display: none !important; }` so we also need the `!important` here to be able to override the default hidden behavior on the sphinx rendered scikit-learn.org. See: https://github.com/scikit-learn/scikit-learn/issues/21755 */display: inline-block !important;position: relative;}#sk-container-id-2 div.sk-text-repr-fallback {display: none;}</style><div id=\"sk-container-id-2\" class=\"sk-top-container\"><div class=\"sk-text-repr-fallback\"><pre>DecisionTreeRegressor(max_depth=3)</pre><b>In a Jupyter environment, please rerun this cell to show the HTML representation or trust the notebook. <br />On GitHub, the HTML representation is unable to render, please try loading this page with nbviewer.org.</b></div><div class=\"sk-container\" hidden><div class=\"sk-item\"><div class=\"sk-estimator sk-toggleable\"><input class=\"sk-toggleable__control sk-hidden--visually\" id=\"sk-estimator-id-2\" type=\"checkbox\" checked><label for=\"sk-estimator-id-2\" class=\"sk-toggleable__label sk-toggleable__label-arrow\">DecisionTreeRegressor</label><div class=\"sk-toggleable__content\"><pre>DecisionTreeRegressor(max_depth=3)</pre></div></div></div></div></div>"
     },
     "execution_count": 11,
     "metadata": {},
     "output_type": "execute_result"
    }
   ]
  },
  {
   "cell_type": "code",
   "source": [
    "# !pip install -q dtreeviz"
   ],
   "metadata": {
    "id": "fH-oUUzCeLfz",
    "colab": {
     "base_uri": "https://localhost:8080/"
    },
    "outputId": "842e29dd-0d02-498a-d536-42147caca8e3"
   },
   "execution_count": 17,
   "outputs": []
  },
  {
   "cell_type": "code",
   "source": [
    "import dtreeviz\n",
    "\n",
    "viz_model = dtreeviz.model(model, Xtrain, ytrain, \n",
    "                           feature_names=Xtrain.columns)\n",
    "\n",
    "viz_model.view(fancy = False, scale = 2)"
   ],
   "metadata": {
    "colab": {
     "base_uri": "https://localhost:8080/",
     "height": 440
    },
    "id": "ip5FFeWubZ75",
    "outputId": "c2460834-3711-4490-b67f-82d68f433845"
   },
   "execution_count": 18,
   "outputs": [
    {
     "name": "stderr",
     "output_type": "stream",
     "text": [
      "C:\\Users\\HOME\\AppData\\Local\\Programs\\Python\\Python39\\lib\\site-packages\\sklearn\\base.py:420: UserWarning: X does not have valid feature names, but DecisionTreeRegressor was fitted with feature names\n"
     ]
    },
    {
     "ename": "ExecutableNotFound",
     "evalue": "failed to execute 'dot', make sure the Graphviz executables are on your systems' PATH",
     "output_type": "error",
     "traceback": [
      "\u001B[1;31m---------------------------------------------------------------------------\u001B[0m",
      "\u001B[1;31mFileNotFoundError\u001B[0m                         Traceback (most recent call last)",
      "File \u001B[1;32m~\\AppData\\Local\\Programs\\Python\\Python39\\lib\\site-packages\\graphviz\\backend\\execute.py:81\u001B[0m, in \u001B[0;36mrun_check\u001B[1;34m(cmd, input_lines, encoding, quiet, **kwargs)\u001B[0m\n\u001B[0;32m     80\u001B[0m     \u001B[38;5;28;01melse\u001B[39;00m:\n\u001B[1;32m---> 81\u001B[0m         proc \u001B[38;5;241m=\u001B[39m subprocess\u001B[38;5;241m.\u001B[39mrun(cmd, \u001B[38;5;241m*\u001B[39m\u001B[38;5;241m*\u001B[39mkwargs)\n\u001B[0;32m     82\u001B[0m \u001B[38;5;28;01mexcept\u001B[39;00m \u001B[38;5;167;01mOSError\u001B[39;00m \u001B[38;5;28;01mas\u001B[39;00m e:\n",
      "File \u001B[1;32m~\\AppData\\Local\\Programs\\Python\\Python39\\lib\\subprocess.py:505\u001B[0m, in \u001B[0;36mrun\u001B[1;34m(input, capture_output, timeout, check, *popenargs, **kwargs)\u001B[0m\n\u001B[0;32m    503\u001B[0m     kwargs[\u001B[38;5;124m'\u001B[39m\u001B[38;5;124mstderr\u001B[39m\u001B[38;5;124m'\u001B[39m] \u001B[38;5;241m=\u001B[39m PIPE\n\u001B[1;32m--> 505\u001B[0m \u001B[38;5;28;01mwith\u001B[39;00m Popen(\u001B[38;5;241m*\u001B[39mpopenargs, \u001B[38;5;241m*\u001B[39m\u001B[38;5;241m*\u001B[39mkwargs) \u001B[38;5;28;01mas\u001B[39;00m process:\n\u001B[0;32m    506\u001B[0m     \u001B[38;5;28;01mtry\u001B[39;00m:\n",
      "File \u001B[1;32m~\\AppData\\Local\\Programs\\Python\\Python39\\lib\\subprocess.py:951\u001B[0m, in \u001B[0;36mPopen.__init__\u001B[1;34m(self, args, bufsize, executable, stdin, stdout, stderr, preexec_fn, close_fds, shell, cwd, env, universal_newlines, startupinfo, creationflags, restore_signals, start_new_session, pass_fds, user, group, extra_groups, encoding, errors, text, umask)\u001B[0m\n\u001B[0;32m    948\u001B[0m             \u001B[38;5;28mself\u001B[39m\u001B[38;5;241m.\u001B[39mstderr \u001B[38;5;241m=\u001B[39m io\u001B[38;5;241m.\u001B[39mTextIOWrapper(\u001B[38;5;28mself\u001B[39m\u001B[38;5;241m.\u001B[39mstderr,\n\u001B[0;32m    949\u001B[0m                     encoding\u001B[38;5;241m=\u001B[39mencoding, errors\u001B[38;5;241m=\u001B[39merrors)\n\u001B[1;32m--> 951\u001B[0m     \u001B[38;5;28;43mself\u001B[39;49m\u001B[38;5;241;43m.\u001B[39;49m\u001B[43m_execute_child\u001B[49m\u001B[43m(\u001B[49m\u001B[43margs\u001B[49m\u001B[43m,\u001B[49m\u001B[43m \u001B[49m\u001B[43mexecutable\u001B[49m\u001B[43m,\u001B[49m\u001B[43m \u001B[49m\u001B[43mpreexec_fn\u001B[49m\u001B[43m,\u001B[49m\u001B[43m \u001B[49m\u001B[43mclose_fds\u001B[49m\u001B[43m,\u001B[49m\n\u001B[0;32m    952\u001B[0m \u001B[43m                        \u001B[49m\u001B[43mpass_fds\u001B[49m\u001B[43m,\u001B[49m\u001B[43m \u001B[49m\u001B[43mcwd\u001B[49m\u001B[43m,\u001B[49m\u001B[43m \u001B[49m\u001B[43menv\u001B[49m\u001B[43m,\u001B[49m\n\u001B[0;32m    953\u001B[0m \u001B[43m                        \u001B[49m\u001B[43mstartupinfo\u001B[49m\u001B[43m,\u001B[49m\u001B[43m \u001B[49m\u001B[43mcreationflags\u001B[49m\u001B[43m,\u001B[49m\u001B[43m \u001B[49m\u001B[43mshell\u001B[49m\u001B[43m,\u001B[49m\n\u001B[0;32m    954\u001B[0m \u001B[43m                        \u001B[49m\u001B[43mp2cread\u001B[49m\u001B[43m,\u001B[49m\u001B[43m \u001B[49m\u001B[43mp2cwrite\u001B[49m\u001B[43m,\u001B[49m\n\u001B[0;32m    955\u001B[0m \u001B[43m                        \u001B[49m\u001B[43mc2pread\u001B[49m\u001B[43m,\u001B[49m\u001B[43m \u001B[49m\u001B[43mc2pwrite\u001B[49m\u001B[43m,\u001B[49m\n\u001B[0;32m    956\u001B[0m \u001B[43m                        \u001B[49m\u001B[43merrread\u001B[49m\u001B[43m,\u001B[49m\u001B[43m \u001B[49m\u001B[43merrwrite\u001B[49m\u001B[43m,\u001B[49m\n\u001B[0;32m    957\u001B[0m \u001B[43m                        \u001B[49m\u001B[43mrestore_signals\u001B[49m\u001B[43m,\u001B[49m\n\u001B[0;32m    958\u001B[0m \u001B[43m                        \u001B[49m\u001B[43mgid\u001B[49m\u001B[43m,\u001B[49m\u001B[43m \u001B[49m\u001B[43mgids\u001B[49m\u001B[43m,\u001B[49m\u001B[43m \u001B[49m\u001B[43muid\u001B[49m\u001B[43m,\u001B[49m\u001B[43m \u001B[49m\u001B[43mumask\u001B[49m\u001B[43m,\u001B[49m\n\u001B[0;32m    959\u001B[0m \u001B[43m                        \u001B[49m\u001B[43mstart_new_session\u001B[49m\u001B[43m)\u001B[49m\n\u001B[0;32m    960\u001B[0m \u001B[38;5;28;01mexcept\u001B[39;00m:\n\u001B[0;32m    961\u001B[0m     \u001B[38;5;66;03m# Cleanup if the child failed starting.\u001B[39;00m\n",
      "File \u001B[1;32m~\\AppData\\Local\\Programs\\Python\\Python39\\lib\\subprocess.py:1420\u001B[0m, in \u001B[0;36mPopen._execute_child\u001B[1;34m(self, args, executable, preexec_fn, close_fds, pass_fds, cwd, env, startupinfo, creationflags, shell, p2cread, p2cwrite, c2pread, c2pwrite, errread, errwrite, unused_restore_signals, unused_gid, unused_gids, unused_uid, unused_umask, unused_start_new_session)\u001B[0m\n\u001B[0;32m   1419\u001B[0m \u001B[38;5;28;01mtry\u001B[39;00m:\n\u001B[1;32m-> 1420\u001B[0m     hp, ht, pid, tid \u001B[38;5;241m=\u001B[39m \u001B[43m_winapi\u001B[49m\u001B[38;5;241;43m.\u001B[39;49m\u001B[43mCreateProcess\u001B[49m\u001B[43m(\u001B[49m\u001B[43mexecutable\u001B[49m\u001B[43m,\u001B[49m\u001B[43m \u001B[49m\u001B[43margs\u001B[49m\u001B[43m,\u001B[49m\n\u001B[0;32m   1421\u001B[0m \u001B[43m                             \u001B[49m\u001B[38;5;66;43;03m# no special security\u001B[39;49;00m\n\u001B[0;32m   1422\u001B[0m \u001B[43m                             \u001B[49m\u001B[38;5;28;43;01mNone\u001B[39;49;00m\u001B[43m,\u001B[49m\u001B[43m \u001B[49m\u001B[38;5;28;43;01mNone\u001B[39;49;00m\u001B[43m,\u001B[49m\n\u001B[0;32m   1423\u001B[0m \u001B[43m                             \u001B[49m\u001B[38;5;28;43mint\u001B[39;49m\u001B[43m(\u001B[49m\u001B[38;5;129;43;01mnot\u001B[39;49;00m\u001B[43m \u001B[49m\u001B[43mclose_fds\u001B[49m\u001B[43m)\u001B[49m\u001B[43m,\u001B[49m\n\u001B[0;32m   1424\u001B[0m \u001B[43m                             \u001B[49m\u001B[43mcreationflags\u001B[49m\u001B[43m,\u001B[49m\n\u001B[0;32m   1425\u001B[0m \u001B[43m                             \u001B[49m\u001B[43menv\u001B[49m\u001B[43m,\u001B[49m\n\u001B[0;32m   1426\u001B[0m \u001B[43m                             \u001B[49m\u001B[43mcwd\u001B[49m\u001B[43m,\u001B[49m\n\u001B[0;32m   1427\u001B[0m \u001B[43m                             \u001B[49m\u001B[43mstartupinfo\u001B[49m\u001B[43m)\u001B[49m\n\u001B[0;32m   1428\u001B[0m \u001B[38;5;28;01mfinally\u001B[39;00m:\n\u001B[0;32m   1429\u001B[0m     \u001B[38;5;66;03m# Child is launched. Close the parent's copy of those pipe\u001B[39;00m\n\u001B[0;32m   1430\u001B[0m     \u001B[38;5;66;03m# handles that only the child should have open.  You need\u001B[39;00m\n\u001B[1;32m   (...)\u001B[0m\n\u001B[0;32m   1433\u001B[0m     \u001B[38;5;66;03m# pipe will not close when the child process exits and the\u001B[39;00m\n\u001B[0;32m   1434\u001B[0m     \u001B[38;5;66;03m# ReadFile will hang.\u001B[39;00m\n",
      "\u001B[1;31mFileNotFoundError\u001B[0m: [WinError 2] The system cannot find the file specified",
      "\nThe above exception was the direct cause of the following exception:\n",
      "\u001B[1;31mExecutableNotFound\u001B[0m                        Traceback (most recent call last)",
      "File \u001B[1;32m~\\AppData\\Local\\Programs\\Python\\Python39\\lib\\site-packages\\IPython\\core\\formatters.py:342\u001B[0m, in \u001B[0;36mBaseFormatter.__call__\u001B[1;34m(self, obj)\u001B[0m\n\u001B[0;32m    340\u001B[0m     method \u001B[38;5;241m=\u001B[39m get_real_method(obj, \u001B[38;5;28mself\u001B[39m\u001B[38;5;241m.\u001B[39mprint_method)\n\u001B[0;32m    341\u001B[0m     \u001B[38;5;28;01mif\u001B[39;00m method \u001B[38;5;129;01mis\u001B[39;00m \u001B[38;5;129;01mnot\u001B[39;00m \u001B[38;5;28;01mNone\u001B[39;00m:\n\u001B[1;32m--> 342\u001B[0m         \u001B[38;5;28;01mreturn\u001B[39;00m \u001B[43mmethod\u001B[49m\u001B[43m(\u001B[49m\u001B[43m)\u001B[49m\n\u001B[0;32m    343\u001B[0m     \u001B[38;5;28;01mreturn\u001B[39;00m \u001B[38;5;28;01mNone\u001B[39;00m\n\u001B[0;32m    344\u001B[0m \u001B[38;5;28;01melse\u001B[39;00m:\n",
      "File \u001B[1;32m~\\AppData\\Local\\Programs\\Python\\Python39\\lib\\site-packages\\dtreeviz\\utils.py:242\u001B[0m, in \u001B[0;36mDTreeVizRender._repr_svg_\u001B[1;34m(self)\u001B[0m\n\u001B[0;32m    241\u001B[0m \u001B[38;5;28;01mdef\u001B[39;00m \u001B[38;5;21m_repr_svg_\u001B[39m(\u001B[38;5;28mself\u001B[39m):\n\u001B[1;32m--> 242\u001B[0m     \u001B[38;5;28;01mreturn\u001B[39;00m \u001B[38;5;28;43mself\u001B[39;49m\u001B[38;5;241;43m.\u001B[39;49m\u001B[43msvg\u001B[49m\u001B[43m(\u001B[49m\u001B[43m)\u001B[49m\n",
      "File \u001B[1;32m~\\AppData\\Local\\Programs\\Python\\Python39\\lib\\site-packages\\dtreeviz\\utils.py:246\u001B[0m, in \u001B[0;36mDTreeVizRender.svg\u001B[1;34m(self)\u001B[0m\n\u001B[0;32m    244\u001B[0m \u001B[38;5;28;01mdef\u001B[39;00m \u001B[38;5;21msvg\u001B[39m(\u001B[38;5;28mself\u001B[39m):\n\u001B[0;32m    245\u001B[0m \u001B[38;5;250m    \u001B[39m\u001B[38;5;124;03m\"\"\"Render tree as svg and return svg text.\"\"\"\u001B[39;00m\n\u001B[1;32m--> 246\u001B[0m     svgfilename \u001B[38;5;241m=\u001B[39m \u001B[38;5;28;43mself\u001B[39;49m\u001B[38;5;241;43m.\u001B[39;49m\u001B[43msave_svg\u001B[49m\u001B[43m(\u001B[49m\u001B[43m)\u001B[49m\n\u001B[0;32m    247\u001B[0m     \u001B[38;5;28;01mwith\u001B[39;00m \u001B[38;5;28mopen\u001B[39m(svgfilename, encoding\u001B[38;5;241m=\u001B[39m\u001B[38;5;124m'\u001B[39m\u001B[38;5;124mUTF-8\u001B[39m\u001B[38;5;124m'\u001B[39m) \u001B[38;5;28;01mas\u001B[39;00m f:\n\u001B[0;32m    248\u001B[0m         svg \u001B[38;5;241m=\u001B[39m f\u001B[38;5;241m.\u001B[39mread()\n",
      "File \u001B[1;32m~\\AppData\\Local\\Programs\\Python\\Python39\\lib\\site-packages\\dtreeviz\\utils.py:266\u001B[0m, in \u001B[0;36mDTreeVizRender.save_svg\u001B[1;34m(self)\u001B[0m\n\u001B[0;32m    264\u001B[0m tmp \u001B[38;5;241m=\u001B[39m tempfile\u001B[38;5;241m.\u001B[39mgettempdir()\n\u001B[0;32m    265\u001B[0m svgfilename \u001B[38;5;241m=\u001B[39m os\u001B[38;5;241m.\u001B[39mpath\u001B[38;5;241m.\u001B[39mjoin(tmp, \u001B[38;5;124mf\u001B[39m\u001B[38;5;124m\"\u001B[39m\u001B[38;5;124mDTreeViz_\u001B[39m\u001B[38;5;132;01m{\u001B[39;00mos\u001B[38;5;241m.\u001B[39mgetpid()\u001B[38;5;132;01m}\u001B[39;00m\u001B[38;5;124m.svg\u001B[39m\u001B[38;5;124m\"\u001B[39m)\n\u001B[1;32m--> 266\u001B[0m \u001B[38;5;28;43mself\u001B[39;49m\u001B[38;5;241;43m.\u001B[39;49m\u001B[43msave\u001B[49m\u001B[43m(\u001B[49m\u001B[43msvgfilename\u001B[49m\u001B[43m)\u001B[49m\n\u001B[0;32m    267\u001B[0m \u001B[38;5;28;01mreturn\u001B[39;00m svgfilename\n",
      "File \u001B[1;32m~\\AppData\\Local\\Programs\\Python\\Python39\\lib\\site-packages\\dtreeviz\\utils.py:294\u001B[0m, in \u001B[0;36mDTreeVizRender.save\u001B[1;34m(self, filename)\u001B[0m\n\u001B[0;32m    292\u001B[0m     graphviz\u001B[38;5;241m.\u001B[39mbackend\u001B[38;5;241m.\u001B[39mrun(cmd, capture_output\u001B[38;5;241m=\u001B[39m\u001B[38;5;28;01mTrue\u001B[39;00m, check\u001B[38;5;241m=\u001B[39m\u001B[38;5;28;01mTrue\u001B[39;00m, quiet\u001B[38;5;241m=\u001B[39m\u001B[38;5;28;01mFalse\u001B[39;00m)\n\u001B[0;32m    293\u001B[0m \u001B[38;5;28;01melse\u001B[39;00m:\n\u001B[1;32m--> 294\u001B[0m     \u001B[43mgraphviz\u001B[49m\u001B[38;5;241;43m.\u001B[39;49m\u001B[43mbackend\u001B[49m\u001B[38;5;241;43m.\u001B[39;49m\u001B[43mexecute\u001B[49m\u001B[38;5;241;43m.\u001B[39;49m\u001B[43mrun_check\u001B[49m\u001B[43m(\u001B[49m\u001B[43mcmd\u001B[49m\u001B[43m,\u001B[49m\u001B[43m \u001B[49m\u001B[43mcapture_output\u001B[49m\u001B[38;5;241;43m=\u001B[39;49m\u001B[38;5;28;43;01mTrue\u001B[39;49;00m\u001B[43m,\u001B[49m\u001B[43m \u001B[49m\u001B[43mcheck\u001B[49m\u001B[38;5;241;43m=\u001B[39;49m\u001B[38;5;28;43;01mTrue\u001B[39;49;00m\u001B[43m,\u001B[49m\u001B[43m \u001B[49m\u001B[43mquiet\u001B[49m\u001B[38;5;241;43m=\u001B[39;49m\u001B[38;5;28;43;01mFalse\u001B[39;49;00m\u001B[43m)\u001B[49m\n\u001B[0;32m    296\u001B[0m \u001B[38;5;28;01mif\u001B[39;00m filename\u001B[38;5;241m.\u001B[39mendswith(\u001B[38;5;124m\"\u001B[39m\u001B[38;5;124m.svg\u001B[39m\u001B[38;5;124m\"\u001B[39m):\n\u001B[0;32m    297\u001B[0m     \u001B[38;5;66;03m# now merge in referenced SVG images to make all-in-one file\u001B[39;00m\n\u001B[0;32m    298\u001B[0m     \u001B[38;5;28;01mwith\u001B[39;00m \u001B[38;5;28mopen\u001B[39m(filename, encoding\u001B[38;5;241m=\u001B[39m\u001B[38;5;124m'\u001B[39m\u001B[38;5;124mUTF-8\u001B[39m\u001B[38;5;124m'\u001B[39m) \u001B[38;5;28;01mas\u001B[39;00m f:\n",
      "File \u001B[1;32m~\\AppData\\Local\\Programs\\Python\\Python39\\lib\\site-packages\\graphviz\\backend\\execute.py:84\u001B[0m, in \u001B[0;36mrun_check\u001B[1;34m(cmd, input_lines, encoding, quiet, **kwargs)\u001B[0m\n\u001B[0;32m     82\u001B[0m \u001B[38;5;28;01mexcept\u001B[39;00m \u001B[38;5;167;01mOSError\u001B[39;00m \u001B[38;5;28;01mas\u001B[39;00m e:\n\u001B[0;32m     83\u001B[0m     \u001B[38;5;28;01mif\u001B[39;00m e\u001B[38;5;241m.\u001B[39merrno \u001B[38;5;241m==\u001B[39m errno\u001B[38;5;241m.\u001B[39mENOENT:\n\u001B[1;32m---> 84\u001B[0m         \u001B[38;5;28;01mraise\u001B[39;00m ExecutableNotFound(cmd) \u001B[38;5;28;01mfrom\u001B[39;00m \u001B[38;5;21;01me\u001B[39;00m\n\u001B[0;32m     85\u001B[0m     \u001B[38;5;28;01mraise\u001B[39;00m\n\u001B[0;32m     87\u001B[0m \u001B[38;5;28;01mif\u001B[39;00m \u001B[38;5;129;01mnot\u001B[39;00m quiet \u001B[38;5;129;01mand\u001B[39;00m proc\u001B[38;5;241m.\u001B[39mstderr:\n",
      "\u001B[1;31mExecutableNotFound\u001B[0m: failed to execute 'dot', make sure the Graphviz executables are on your systems' PATH"
     ]
    },
    {
     "data": {
      "text/plain": "<dtreeviz.utils.DTreeVizRender at 0x1e01eec70a0>"
     },
     "execution_count": 18,
     "metadata": {},
     "output_type": "execute_result"
    }
   ]
  },
  {
   "cell_type": "code",
   "execution_count": null,
   "outputs": [],
   "source": [],
   "metadata": {
    "collapsed": false
   }
  }
 ]
}
