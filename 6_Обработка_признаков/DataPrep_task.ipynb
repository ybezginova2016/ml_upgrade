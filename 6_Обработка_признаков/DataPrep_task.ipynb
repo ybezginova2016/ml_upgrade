{
  "nbformat": 4,
  "nbformat_minor": 0,
  "metadata": {
    "colab": {
      "provenance": []
    },
    "kernelspec": {
      "name": "python3",
      "display_name": "Python 3"
    },
    "language_info": {
      "name": "python"
    }
  },
  "cells": [
    {
      "cell_type": "markdown",
      "source": [
        "В этом домашнем задании вы будете решать задачу предсказания стоимости автомобилей по их различным характеристикам."
      ],
      "metadata": {
        "id": "A4FLq2z2gQPg"
      }
    },
    {
      "cell_type": "code",
      "execution_count": null,
      "metadata": {
        "id": "yjbQ0vgCVeFB"
      },
      "outputs": [],
      "source": [
        "import pandas as pd\n",
        "\n",
        "RANDOM_STATE = 42"
      ]
    },
    {
      "cell_type": "code",
      "source": [
        "df = pd.read_csv(\"https://raw.githubusercontent.com/evgpat/edu_stepik_practical_ml/main/datasets/cars_prices.csv\", decimal='.')\n",
        "\n",
        "df.head()"
      ],
      "metadata": {
        "id": "Ck9hQ3-oVki5"
      },
      "execution_count": null,
      "outputs": []
    },
    {
      "cell_type": "code",
      "source": [
        "df.shape"
      ],
      "metadata": {
        "id": "0RdRAOIiXnpi"
      },
      "execution_count": null,
      "outputs": []
    },
    {
      "cell_type": "markdown",
      "source": [
        "## 1. Заполнение пропусков"
      ],
      "metadata": {
        "id": "467CN2G3YULB"
      }
    },
    {
      "cell_type": "markdown",
      "source": [
        "Пропуски в этом датасете обозначены как `?`"
      ],
      "metadata": {
        "id": "rdAu_7lbgog5"
      }
    },
    {
      "cell_type": "code",
      "source": [
        "for c in df.columns:\n",
        "    print(c, len(df[df[c] == '?']))"
      ],
      "metadata": {
        "colab": {
          "base_uri": "https://localhost:8080/"
        },
        "id": "KzMBbxpYWZn3",
        "outputId": "9252dc6d-2650-45af-e5ef-fb192a257afd"
      },
      "execution_count": null,
      "outputs": [
        {
          "output_type": "stream",
          "name": "stdout",
          "text": [
            "symboling 0\n",
            "normalized-losses 41\n",
            "make 0\n",
            "fuel-type 0\n",
            "aspiration 0\n",
            "num-of-doors 2\n",
            "body-style 0\n",
            "drive-wheels 0\n",
            "engine-location 0\n",
            "wheel-base 0\n",
            "length 0\n",
            "width 0\n",
            "height 0\n",
            "curb-weight 0\n",
            "engine-type 0\n",
            "num-of-cylinders 0\n",
            "engine-size 0\n",
            "fuel-system 0\n",
            "bore 4\n",
            "stroke 4\n",
            "compression-ratio 0\n",
            "horsepower 2\n",
            "peak-rpm 2\n",
            "city-mpg 0\n",
            "highway-mpg 0\n",
            "price 4\n"
          ]
        }
      ]
    },
    {
      "cell_type": "markdown",
      "source": [
        "Удалите строки, для которых неизвестно значение price, так как это целевая переменная."
      ],
      "metadata": {
        "id": "B_u_0_UJXwkg"
      }
    },
    {
      "cell_type": "markdown",
      "source": [
        "## Вопрос для Quiz \n",
        "\n",
        "Сколько строк осталось в данных?"
      ],
      "metadata": {
        "id": "4nnW4mCse2oq"
      }
    },
    {
      "cell_type": "code",
      "source": [
        "# your code here"
      ],
      "metadata": {
        "id": "ZEdtYlvUX1Kj"
      },
      "execution_count": null,
      "outputs": []
    },
    {
      "cell_type": "markdown",
      "source": [
        "Заполните средним значением пропуски в столбцах для числовых признаков и самым популярным значением для категориальных признаков\n",
        "* `num-of-doors`\n",
        "* `bore`\n",
        "* `stroke`\n",
        "* `horsepower`\n",
        "* `peak-rpm`"
      ],
      "metadata": {
        "id": "BzBhbWe6Xttu"
      }
    },
    {
      "cell_type": "code",
      "source": [
        "# your code here"
      ],
      "metadata": {
        "id": "ZFS5aqMfXThA"
      },
      "execution_count": null,
      "outputs": []
    },
    {
      "cell_type": "markdown",
      "source": [
        "## Вопрос для Quiz \n",
        "\n",
        "Чему равно среднее значение `peak-rpm` до заполнения пропусков? Ответ округлите до целого числа."
      ],
      "metadata": {
        "id": "e__FkolsfC53"
      }
    },
    {
      "cell_type": "markdown",
      "source": [
        "Пропуски в столбце `normalized-losses` предскажите при помощи линейной регрессии по признакам\n",
        "`symboling`, `wheel-base`, `length`, `width`, `height`, `curb-weight`, `engine-size`, `compression-ratio`, `city-mpg`, `highway-mpg` и заполните их предсказаниями"
      ],
      "metadata": {
        "id": "DKJJUWRUYCPc"
      }
    },
    {
      "cell_type": "code",
      "source": [
        "from sklearn.linear_model import LinearRegression\n",
        "\n",
        "# your code here"
      ],
      "metadata": {
        "id": "VxI417PYYF1u"
      },
      "execution_count": null,
      "outputs": []
    },
    {
      "cell_type": "markdown",
      "source": [
        "## Вопрос для Quiz\n",
        "\n",
        "Чему равно предсказание линейной регрессии на первом пропущенном значении? Ответ округлите до целого числа."
      ],
      "metadata": {
        "id": "LVcKyBT6fMyB"
      }
    },
    {
      "cell_type": "markdown",
      "source": [
        "## 2. Кодирование категориальных признаков"
      ],
      "metadata": {
        "id": "4nCtOgdHYWcK"
      }
    },
    {
      "cell_type": "markdown",
      "source": [
        "1. Закодируйте бинарные признаки `fuel-type`, `aspiration`, `num-of-doors`, `engine-location` каждый отдельной колонкой, состоящей из 0 и 1.\n",
        "Единицей кодируйте самую частую категорию."
      ],
      "metadata": {
        "id": "NfpKlPSoZrOx"
      }
    },
    {
      "cell_type": "code",
      "source": [
        "# your code here"
      ],
      "metadata": {
        "id": "SNMXDMrOaDC3"
      },
      "execution_count": null,
      "outputs": []
    },
    {
      "cell_type": "markdown",
      "source": [
        "2. Вынесите в переменную `y` целевую переменную `price`, а все остальные колонки - в матрицу `X`.\n",
        "\n",
        "Закодируйте признаки `make`, `body-style`, `engine-type`, `fuel-system` при помощи LeaveOneOutEncoder.\n",
        "\n",
        "**Дальше все время работайте с объектами `X`, `y`.**"
      ],
      "metadata": {
        "id": "63EWSfcdacBP"
      }
    },
    {
      "cell_type": "code",
      "source": [
        "!pip install category_encoders -q"
      ],
      "metadata": {
        "colab": {
          "base_uri": "https://localhost:8080/"
        },
        "id": "CrYYbC7qaqhu",
        "outputId": "35664264-cea7-48bb-f8e7-eda9c4eacc27"
      },
      "execution_count": null,
      "outputs": [
        {
          "output_type": "stream",
          "name": "stdout",
          "text": [
            "\u001b[?25l     \u001b[90m━━━━━━━━━━━━━━━━━━━━━━━━━━━━━━━━━━━━━━━━\u001b[0m \u001b[32m0.0/81.2 KB\u001b[0m \u001b[31m?\u001b[0m eta \u001b[36m-:--:--\u001b[0m\r\u001b[2K     \u001b[90m━━━━━━━━━━━━━━━━━━━━━━━━━━━━━━━━━━━━━━━━\u001b[0m \u001b[32m81.2/81.2 KB\u001b[0m \u001b[31m3.2 MB/s\u001b[0m eta \u001b[36m0:00:00\u001b[0m\n",
            "\u001b[?25h"
          ]
        }
      ]
    },
    {
      "cell_type": "code",
      "source": [
        "from category_encoders.leave_one_out import LeaveOneOutEncoder\n",
        "\n",
        "# your code here"
      ],
      "metadata": {
        "id": "mVYSRQPkas_H"
      },
      "execution_count": null,
      "outputs": []
    },
    {
      "cell_type": "markdown",
      "source": [
        "## Вопрос для Quiz \n",
        "\n",
        "Чему равно среднее значение в столбце `body-style` после кодирования? Ответ округлите до целого числа. "
      ],
      "metadata": {
        "id": "xrayBEdmfajI"
      }
    },
    {
      "cell_type": "markdown",
      "source": [
        "3. Закодируйте признак `drive-wheels` при помощи OHE из библиотеки category_encoders."
      ],
      "metadata": {
        "id": "bijoPpNabTpr"
      }
    },
    {
      "cell_type": "code",
      "source": [
        "from category_encoders.one_hot import OneHotEncoder\n",
        "\n",
        "# your code here"
      ],
      "metadata": {
        "id": "QaKHWAJ6bTUg"
      },
      "execution_count": null,
      "outputs": []
    },
    {
      "cell_type": "markdown",
      "source": [
        "4. В столбце `num-of-cylinders` категории упорядочены по смыслу. Закодируйте их подряд идущими числами, начиная с 1, согласно смыслу.\n",
        "\n",
        "Подряд идущими числами означает - 1, 2, 3 и так далее без пропусков."
      ],
      "metadata": {
        "id": "49oY1K1ab9zj"
      }
    },
    {
      "cell_type": "code",
      "source": [
        "# your code here"
      ],
      "metadata": {
        "id": "zpvie4xGYbQz"
      },
      "execution_count": null,
      "outputs": []
    },
    {
      "cell_type": "markdown",
      "source": [
        "## Вопрос для Quiz \n",
        "\n",
        "Сколько столбцов получилось в матрице `X`?"
      ],
      "metadata": {
        "id": "pzIWb2qgfvcM"
      }
    },
    {
      "cell_type": "code",
      "source": [
        "X['normalized-losses'] = X['normalized-losses'].astype(float)\n",
        "X['bore'] = X['bore'].astype(float)\n",
        "X['stroke'] = X['stroke'].astype(float)\n",
        "X['horsepower'] = X['horsepower'].astype(float)\n",
        "X['peak-rpm'] = X['peak-rpm'].astype(float)\n",
        "\n",
        "y = y.astype(float)"
      ],
      "metadata": {
        "id": "7Gnh7Q-UYqPF"
      },
      "execution_count": null,
      "outputs": []
    },
    {
      "cell_type": "markdown",
      "source": [
        "Разбейте данные на тренировочную и тестовую часть в пропорции 3 к 1, зафиксируйте random_state = 42."
      ],
      "metadata": {
        "id": "T7sJS-JMdwtl"
      }
    },
    {
      "cell_type": "code",
      "source": [
        "from sklearn.model_selection import train_test_split \n",
        "\n",
        "# your code here"
      ],
      "metadata": {
        "id": "YzLuleOHdrHi"
      },
      "execution_count": null,
      "outputs": []
    },
    {
      "cell_type": "markdown",
      "source": [
        "Масштабируйте данные при помощи MinMaxScaler.\n",
        "\n",
        "Обучайте масштабирование на тренировочных данных, а потом примените и к трейну, и к тесту."
      ],
      "metadata": {
        "id": "F5OC3BTxd-Z9"
      }
    },
    {
      "cell_type": "code",
      "source": [
        "from sklearn.preprocessing import MinMaxScaler \n",
        "\n",
        "# your code here"
      ],
      "metadata": {
        "id": "CtUczvWgd9vt"
      },
      "execution_count": null,
      "outputs": []
    },
    {
      "cell_type": "markdown",
      "source": [
        "Обучите на тренировочных данных линейную регрессию, сделайте предсказание на тесте и вычислите значение $R^2$ на тестовых данных."
      ],
      "metadata": {
        "id": "rAknalf5eevG"
      }
    },
    {
      "cell_type": "code",
      "source": [
        "# your code here"
      ],
      "metadata": {
        "id": "tvmiFFkqeU2B"
      },
      "execution_count": null,
      "outputs": []
    },
    {
      "cell_type": "markdown",
      "source": [
        "## Вопрос для Quiz \n",
        "\n",
        "Чему равно значение $R^2$ на тестовых данных? Ответ округлите до сотых."
      ],
      "metadata": {
        "id": "5JWcIWG-f7X7"
      }
    }
  ]
}