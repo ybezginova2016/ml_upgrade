{
 "nbformat": 4,
 "nbformat_minor": 0,
 "metadata": {
  "colab": {
   "provenance": []
  },
  "kernelspec": {
   "name": "python3",
   "display_name": "Python 3"
  },
  "language_info": {
   "name": "python"
  }
 },
 "cells": [
  {
   "cell_type": "markdown",
   "source": [
    "# Схема проекта по машинному обучению"
   ],
   "metadata": {
    "id": "K4BZX0xCfmkZ"
   }
  },
  {
   "cell_type": "markdown",
   "source": [
    "Что будем делать:\n",
    "- получим данные\n",
    "- сформируем тренировочный и тестовый датасеты\n",
    "- обучим модель\n",
    "- оценим результат"
   ],
   "metadata": {
    "id": "jtRx7momPMUD"
   }
  },
  {
   "cell_type": "markdown",
   "source": [
    "## Загрузка данных"
   ],
   "metadata": {
    "id": "xb-pdjIUf7t4"
   }
  },
  {
   "cell_type": "code",
   "execution_count": 1,
   "metadata": {
    "id": "lNHVbZ-4rxFE"
   },
   "outputs": [],
   "source": [
    "import pandas as pd\n",
    "\n",
    "df = pd.read_csv(\"https://raw.githubusercontent.com/evgpat/edu_stepik_practical_ml/main/datasets/house_prices.csv\")"
   ]
  },
  {
   "cell_type": "markdown",
   "source": [
    "## Обзор данных"
   ],
   "metadata": {
    "id": "q4zMANq-gBHW"
   }
  },
  {
   "cell_type": "code",
   "source": [
    "df.head()"
   ],
   "metadata": {
    "colab": {
     "base_uri": "https://localhost:8080/",
     "height": 206
    },
    "id": "KU5uKwPEgFci",
    "outputId": "484a19cd-e87c-4245-9633-7ec7df974593"
   },
   "execution_count": 2,
   "outputs": [
    {
     "data": {
      "text/plain": "   longitude  latitude  housing_median_age  total_rooms  total_bedrooms  \\\n0    -114.31     34.19                15.0       5612.0          1283.0   \n1    -114.47     34.40                19.0       7650.0          1901.0   \n2    -114.56     33.69                17.0        720.0           174.0   \n3    -114.57     33.64                14.0       1501.0           337.0   \n4    -114.57     33.57                20.0       1454.0           326.0   \n\n   population  households  median_income  median_house_value  \n0      1015.0       472.0         1.4936             66900.0  \n1      1129.0       463.0         1.8200             80100.0  \n2       333.0       117.0         1.6509             85700.0  \n3       515.0       226.0         3.1917             73400.0  \n4       624.0       262.0         1.9250             65500.0  ",
      "text/html": "<div>\n<style scoped>\n    .dataframe tbody tr th:only-of-type {\n        vertical-align: middle;\n    }\n\n    .dataframe tbody tr th {\n        vertical-align: top;\n    }\n\n    .dataframe thead th {\n        text-align: right;\n    }\n</style>\n<table border=\"1\" class=\"dataframe\">\n  <thead>\n    <tr style=\"text-align: right;\">\n      <th></th>\n      <th>longitude</th>\n      <th>latitude</th>\n      <th>housing_median_age</th>\n      <th>total_rooms</th>\n      <th>total_bedrooms</th>\n      <th>population</th>\n      <th>households</th>\n      <th>median_income</th>\n      <th>median_house_value</th>\n    </tr>\n  </thead>\n  <tbody>\n    <tr>\n      <th>0</th>\n      <td>-114.31</td>\n      <td>34.19</td>\n      <td>15.0</td>\n      <td>5612.0</td>\n      <td>1283.0</td>\n      <td>1015.0</td>\n      <td>472.0</td>\n      <td>1.4936</td>\n      <td>66900.0</td>\n    </tr>\n    <tr>\n      <th>1</th>\n      <td>-114.47</td>\n      <td>34.40</td>\n      <td>19.0</td>\n      <td>7650.0</td>\n      <td>1901.0</td>\n      <td>1129.0</td>\n      <td>463.0</td>\n      <td>1.8200</td>\n      <td>80100.0</td>\n    </tr>\n    <tr>\n      <th>2</th>\n      <td>-114.56</td>\n      <td>33.69</td>\n      <td>17.0</td>\n      <td>720.0</td>\n      <td>174.0</td>\n      <td>333.0</td>\n      <td>117.0</td>\n      <td>1.6509</td>\n      <td>85700.0</td>\n    </tr>\n    <tr>\n      <th>3</th>\n      <td>-114.57</td>\n      <td>33.64</td>\n      <td>14.0</td>\n      <td>1501.0</td>\n      <td>337.0</td>\n      <td>515.0</td>\n      <td>226.0</td>\n      <td>3.1917</td>\n      <td>73400.0</td>\n    </tr>\n    <tr>\n      <th>4</th>\n      <td>-114.57</td>\n      <td>33.57</td>\n      <td>20.0</td>\n      <td>1454.0</td>\n      <td>326.0</td>\n      <td>624.0</td>\n      <td>262.0</td>\n      <td>1.9250</td>\n      <td>65500.0</td>\n    </tr>\n  </tbody>\n</table>\n</div>"
     },
     "execution_count": 2,
     "metadata": {},
     "output_type": "execute_result"
    }
   ]
  },
  {
   "cell_type": "code",
   "source": [
    "df.shape"
   ],
   "metadata": {
    "id": "pwmWY80bsYbr",
    "colab": {
     "base_uri": "https://localhost:8080/"
    },
    "outputId": "f50431fc-1cfb-4a06-b1ba-6816a6a8efee"
   },
   "execution_count": 3,
   "outputs": [
    {
     "data": {
      "text/plain": "(20000, 9)"
     },
     "execution_count": 3,
     "metadata": {},
     "output_type": "execute_result"
    }
   ]
  },
  {
   "cell_type": "markdown",
   "source": [
    "## Выделение матрицы объект-признак и целевой переменной"
   ],
   "metadata": {
    "id": "PGWVPPLMgP_M"
   }
  },
  {
   "cell_type": "code",
   "source": [
    "X = df.drop('median_house_value', axis=1)\n",
    "y = df['median_house_value']"
   ],
   "metadata": {
    "id": "jime687ls8Sy"
   },
   "execution_count": 4,
   "outputs": []
  },
  {
   "cell_type": "markdown",
   "source": [
    "## Разбиение выборки на тренировочную и тестовую части"
   ],
   "metadata": {
    "id": "HXIRT0FYgdS6"
   }
  },
  {
   "cell_type": "code",
   "source": [
    "from sklearn.model_selection import train_test_split\n",
    "\n",
    "X_train, X_test, y_train, y_test = train_test_split(X, y, test_size=0.25, random_state=42)"
   ],
   "metadata": {
    "id": "R9yIIjUbslGE"
   },
   "execution_count": 5,
   "outputs": []
  },
  {
   "cell_type": "markdown",
   "source": [
    "## Обучение модели на тренировочных данных"
   ],
   "metadata": {
    "id": "i5aE82Izg1O7"
   }
  },
  {
   "cell_type": "code",
   "source": [
    "from sklearn.linear_model import LinearRegression\n",
    "\n",
    "model = LinearRegression()\n",
    "\n",
    "model.fit(X_train, y_train)"
   ],
   "metadata": {
    "colab": {
     "base_uri": "https://localhost:8080/"
    },
    "id": "EYR9o_nXt-A1",
    "outputId": "5fd5cc5a-fb6e-47d8-89b4-23ba0f87ce9f"
   },
   "execution_count": 6,
   "outputs": [
    {
     "data": {
      "text/plain": "LinearRegression()",
      "text/html": "<style>#sk-container-id-1 {color: black;background-color: white;}#sk-container-id-1 pre{padding: 0;}#sk-container-id-1 div.sk-toggleable {background-color: white;}#sk-container-id-1 label.sk-toggleable__label {cursor: pointer;display: block;width: 100%;margin-bottom: 0;padding: 0.3em;box-sizing: border-box;text-align: center;}#sk-container-id-1 label.sk-toggleable__label-arrow:before {content: \"▸\";float: left;margin-right: 0.25em;color: #696969;}#sk-container-id-1 label.sk-toggleable__label-arrow:hover:before {color: black;}#sk-container-id-1 div.sk-estimator:hover label.sk-toggleable__label-arrow:before {color: black;}#sk-container-id-1 div.sk-toggleable__content {max-height: 0;max-width: 0;overflow: hidden;text-align: left;background-color: #f0f8ff;}#sk-container-id-1 div.sk-toggleable__content pre {margin: 0.2em;color: black;border-radius: 0.25em;background-color: #f0f8ff;}#sk-container-id-1 input.sk-toggleable__control:checked~div.sk-toggleable__content {max-height: 200px;max-width: 100%;overflow: auto;}#sk-container-id-1 input.sk-toggleable__control:checked~label.sk-toggleable__label-arrow:before {content: \"▾\";}#sk-container-id-1 div.sk-estimator input.sk-toggleable__control:checked~label.sk-toggleable__label {background-color: #d4ebff;}#sk-container-id-1 div.sk-label input.sk-toggleable__control:checked~label.sk-toggleable__label {background-color: #d4ebff;}#sk-container-id-1 input.sk-hidden--visually {border: 0;clip: rect(1px 1px 1px 1px);clip: rect(1px, 1px, 1px, 1px);height: 1px;margin: -1px;overflow: hidden;padding: 0;position: absolute;width: 1px;}#sk-container-id-1 div.sk-estimator {font-family: monospace;background-color: #f0f8ff;border: 1px dotted black;border-radius: 0.25em;box-sizing: border-box;margin-bottom: 0.5em;}#sk-container-id-1 div.sk-estimator:hover {background-color: #d4ebff;}#sk-container-id-1 div.sk-parallel-item::after {content: \"\";width: 100%;border-bottom: 1px solid gray;flex-grow: 1;}#sk-container-id-1 div.sk-label:hover label.sk-toggleable__label {background-color: #d4ebff;}#sk-container-id-1 div.sk-serial::before {content: \"\";position: absolute;border-left: 1px solid gray;box-sizing: border-box;top: 0;bottom: 0;left: 50%;z-index: 0;}#sk-container-id-1 div.sk-serial {display: flex;flex-direction: column;align-items: center;background-color: white;padding-right: 0.2em;padding-left: 0.2em;position: relative;}#sk-container-id-1 div.sk-item {position: relative;z-index: 1;}#sk-container-id-1 div.sk-parallel {display: flex;align-items: stretch;justify-content: center;background-color: white;position: relative;}#sk-container-id-1 div.sk-item::before, #sk-container-id-1 div.sk-parallel-item::before {content: \"\";position: absolute;border-left: 1px solid gray;box-sizing: border-box;top: 0;bottom: 0;left: 50%;z-index: -1;}#sk-container-id-1 div.sk-parallel-item {display: flex;flex-direction: column;z-index: 1;position: relative;background-color: white;}#sk-container-id-1 div.sk-parallel-item:first-child::after {align-self: flex-end;width: 50%;}#sk-container-id-1 div.sk-parallel-item:last-child::after {align-self: flex-start;width: 50%;}#sk-container-id-1 div.sk-parallel-item:only-child::after {width: 0;}#sk-container-id-1 div.sk-dashed-wrapped {border: 1px dashed gray;margin: 0 0.4em 0.5em 0.4em;box-sizing: border-box;padding-bottom: 0.4em;background-color: white;}#sk-container-id-1 div.sk-label label {font-family: monospace;font-weight: bold;display: inline-block;line-height: 1.2em;}#sk-container-id-1 div.sk-label-container {text-align: center;}#sk-container-id-1 div.sk-container {/* jupyter's `normalize.less` sets `[hidden] { display: none; }` but bootstrap.min.css set `[hidden] { display: none !important; }` so we also need the `!important` here to be able to override the default hidden behavior on the sphinx rendered scikit-learn.org. See: https://github.com/scikit-learn/scikit-learn/issues/21755 */display: inline-block !important;position: relative;}#sk-container-id-1 div.sk-text-repr-fallback {display: none;}</style><div id=\"sk-container-id-1\" class=\"sk-top-container\"><div class=\"sk-text-repr-fallback\"><pre>LinearRegression()</pre><b>In a Jupyter environment, please rerun this cell to show the HTML representation or trust the notebook. <br />On GitHub, the HTML representation is unable to render, please try loading this page with nbviewer.org.</b></div><div class=\"sk-container\" hidden><div class=\"sk-item\"><div class=\"sk-estimator sk-toggleable\"><input class=\"sk-toggleable__control sk-hidden--visually\" id=\"sk-estimator-id-1\" type=\"checkbox\" checked><label for=\"sk-estimator-id-1\" class=\"sk-toggleable__label sk-toggleable__label-arrow\">LinearRegression</label><div class=\"sk-toggleable__content\"><pre>LinearRegression()</pre></div></div></div></div></div>"
     },
     "execution_count": 6,
     "metadata": {},
     "output_type": "execute_result"
    }
   ]
  },
  {
   "cell_type": "markdown",
   "source": [
    "## Предсказание модели на тестовых данных"
   ],
   "metadata": {
    "id": "1-Ob0zN_g7bk"
   }
  },
  {
   "cell_type": "code",
   "source": [
    "prediction = model.predict(X_test)"
   ],
   "metadata": {
    "id": "IQRxBjMkuCFg"
   },
   "execution_count": 7,
   "outputs": []
  },
  {
   "cell_type": "code",
   "source": [
    "prediction[:10]"
   ],
   "metadata": {
    "colab": {
     "base_uri": "https://localhost:8080/"
    },
    "id": "CfyGfq8-qwCt",
    "outputId": "40c9b645-5242-4a3f-cfc3-d92127db7b31"
   },
   "execution_count": 8,
   "outputs": [
    {
     "data": {
      "text/plain": "array([  3634.54014454, 212458.46103116, 278501.95085509,  70041.88004123,\n       304070.89408959, 131388.86314897, 132069.04298238, 415036.94795881,\n       356753.34288173, 196207.91156302])"
     },
     "execution_count": 8,
     "metadata": {},
     "output_type": "execute_result"
    }
   ]
  },
  {
   "cell_type": "markdown",
   "source": [
    "## Вычисление метрики MSE на тестовых данных"
   ],
   "metadata": {
    "id": "LRtDQYwXhCl-"
   }
  },
  {
   "cell_type": "code",
   "source": [
    "from sklearn.metrics import mean_squared_error\n",
    "\n",
    "mean_squared_error(y_test, prediction)"
   ],
   "metadata": {
    "colab": {
     "base_uri": "https://localhost:8080/"
    },
    "id": "_xNppnk5uEp7",
    "outputId": "93fb6d1a-7658-4238-e0e7-21def7bc5c61"
   },
   "execution_count": 9,
   "outputs": [
    {
     "data": {
      "text/plain": "4807903806.065203"
     },
     "execution_count": 9,
     "metadata": {},
     "output_type": "execute_result"
    }
   ]
  },
  {
   "cell_type": "code",
   "source": [
    "mean_squared_error(y_test, prediction) ** 0.5"
   ],
   "metadata": {
    "colab": {
     "base_uri": "https://localhost:8080/"
    },
    "id": "L-wAvGIeuOMh",
    "outputId": "ba07cb58-e571-4b9b-e640-131c9bc25162"
   },
   "execution_count": 10,
   "outputs": [
    {
     "data": {
      "text/plain": "69339.04964783699"
     },
     "execution_count": 10,
     "metadata": {},
     "output_type": "execute_result"
    }
   ]
  }
 ]
}
