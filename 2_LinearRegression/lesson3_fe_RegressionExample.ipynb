{
 "nbformat": 4,
 "nbformat_minor": 0,
 "metadata": {
  "colab": {
   "provenance": []
  },
  "kernelspec": {
   "name": "python3",
   "display_name": "Python 3"
  },
  "language_info": {
   "name": "python"
  }
 },
 "cells": [
  {
   "cell_type": "markdown",
   "source": [
    "Будем решать задачу регрессии - предсказывать стоимость домов в Калифорнии."
   ],
   "metadata": {
    "id": "BXH4GEVJXiG4"
   }
  },
  {
   "cell_type": "code",
   "execution_count": 1,
   "metadata": {
    "id": "P-fFNnl9WI23"
   },
   "outputs": [],
   "source": [
    "from matplotlib import pyplot as plt\n",
    "import pandas as pd\n",
    "from sklearn.datasets import fetch_california_housing"
   ]
  },
  {
   "cell_type": "markdown",
   "source": [
    "Загрузим данные."
   ],
   "metadata": {
    "id": "g2iuq6WwqFmu"
   }
  },
  {
   "cell_type": "code",
   "source": [
    "Data = fetch_california_housing(as_frame=True)\n",
    "\n",
    "X = Data['data']\n",
    "y = Data['target']"
   ],
   "metadata": {
    "id": "WHeSA-lZWNEP"
   },
   "execution_count": null,
   "outputs": []
  },
  {
   "cell_type": "code",
   "source": [
    "X.head()"
   ],
   "metadata": {
    "colab": {
     "base_uri": "https://localhost:8080/",
     "height": 221
    },
    "id": "HhP3UTa8WkVV",
    "outputId": "303259f6-035b-450b-d4cb-97a811847ff3"
   },
   "execution_count": null,
   "outputs": [
    {
     "output_type": "execute_result",
     "data": {
      "text/plain": [
       "   MedInc  HouseAge  AveRooms  AveBedrms  Population  AveOccup  Latitude  \\\n",
       "0  8.3252      41.0  6.984127   1.023810       322.0  2.555556     37.88   \n",
       "1  8.3014      21.0  6.238137   0.971880      2401.0  2.109842     37.86   \n",
       "2  7.2574      52.0  8.288136   1.073446       496.0  2.802260     37.85   \n",
       "3  5.6431      52.0  5.817352   1.073059       558.0  2.547945     37.85   \n",
       "4  3.8462      52.0  6.281853   1.081081       565.0  2.181467     37.85   \n",
       "\n",
       "   Longitude  \n",
       "0    -122.23  \n",
       "1    -122.22  \n",
       "2    -122.24  \n",
       "3    -122.25  \n",
       "4    -122.25  "
      ],
      "text/html": [
       "\n",
       "  <div id=\"df-12c1d659-eb34-4342-8487-efe3a56fa767\">\n",
       "    <div class=\"colab-df-container\">\n",
       "      <div>\n",
       "<style scoped>\n",
       "    .dataframe tbody tr th:only-of-type {\n",
       "        vertical-align: middle;\n",
       "    }\n",
       "\n",
       "    .dataframe tbody tr th {\n",
       "        vertical-align: top;\n",
       "    }\n",
       "\n",
       "    .dataframe thead th {\n",
       "        text-align: right;\n",
       "    }\n",
       "</style>\n",
       "<table border=\"1\" class=\"dataframe\">\n",
       "  <thead>\n",
       "    <tr style=\"text-align: right;\">\n",
       "      <th></th>\n",
       "      <th>MedInc</th>\n",
       "      <th>HouseAge</th>\n",
       "      <th>AveRooms</th>\n",
       "      <th>AveBedrms</th>\n",
       "      <th>Population</th>\n",
       "      <th>AveOccup</th>\n",
       "      <th>Latitude</th>\n",
       "      <th>Longitude</th>\n",
       "    </tr>\n",
       "  </thead>\n",
       "  <tbody>\n",
       "    <tr>\n",
       "      <th>0</th>\n",
       "      <td>8.3252</td>\n",
       "      <td>41.0</td>\n",
       "      <td>6.984127</td>\n",
       "      <td>1.023810</td>\n",
       "      <td>322.0</td>\n",
       "      <td>2.555556</td>\n",
       "      <td>37.88</td>\n",
       "      <td>-122.23</td>\n",
       "    </tr>\n",
       "    <tr>\n",
       "      <th>1</th>\n",
       "      <td>8.3014</td>\n",
       "      <td>21.0</td>\n",
       "      <td>6.238137</td>\n",
       "      <td>0.971880</td>\n",
       "      <td>2401.0</td>\n",
       "      <td>2.109842</td>\n",
       "      <td>37.86</td>\n",
       "      <td>-122.22</td>\n",
       "    </tr>\n",
       "    <tr>\n",
       "      <th>2</th>\n",
       "      <td>7.2574</td>\n",
       "      <td>52.0</td>\n",
       "      <td>8.288136</td>\n",
       "      <td>1.073446</td>\n",
       "      <td>496.0</td>\n",
       "      <td>2.802260</td>\n",
       "      <td>37.85</td>\n",
       "      <td>-122.24</td>\n",
       "    </tr>\n",
       "    <tr>\n",
       "      <th>3</th>\n",
       "      <td>5.6431</td>\n",
       "      <td>52.0</td>\n",
       "      <td>5.817352</td>\n",
       "      <td>1.073059</td>\n",
       "      <td>558.0</td>\n",
       "      <td>2.547945</td>\n",
       "      <td>37.85</td>\n",
       "      <td>-122.25</td>\n",
       "    </tr>\n",
       "    <tr>\n",
       "      <th>4</th>\n",
       "      <td>3.8462</td>\n",
       "      <td>52.0</td>\n",
       "      <td>6.281853</td>\n",
       "      <td>1.081081</td>\n",
       "      <td>565.0</td>\n",
       "      <td>2.181467</td>\n",
       "      <td>37.85</td>\n",
       "      <td>-122.25</td>\n",
       "    </tr>\n",
       "  </tbody>\n",
       "</table>\n",
       "</div>\n",
       "      <button class=\"colab-df-convert\" onclick=\"convertToInteractive('df-12c1d659-eb34-4342-8487-efe3a56fa767')\"\n",
       "              title=\"Convert this dataframe to an interactive table.\"\n",
       "              style=\"display:none;\">\n",
       "        \n",
       "  <svg xmlns=\"http://www.w3.org/2000/svg\" height=\"24px\"viewBox=\"0 0 24 24\"\n",
       "       width=\"24px\">\n",
       "    <path d=\"M0 0h24v24H0V0z\" fill=\"none\"/>\n",
       "    <path d=\"M18.56 5.44l.94 2.06.94-2.06 2.06-.94-2.06-.94-.94-2.06-.94 2.06-2.06.94zm-11 1L8.5 8.5l.94-2.06 2.06-.94-2.06-.94L8.5 2.5l-.94 2.06-2.06.94zm10 10l.94 2.06.94-2.06 2.06-.94-2.06-.94-.94-2.06-.94 2.06-2.06.94z\"/><path d=\"M17.41 7.96l-1.37-1.37c-.4-.4-.92-.59-1.43-.59-.52 0-1.04.2-1.43.59L10.3 9.45l-7.72 7.72c-.78.78-.78 2.05 0 2.83L4 21.41c.39.39.9.59 1.41.59.51 0 1.02-.2 1.41-.59l7.78-7.78 2.81-2.81c.8-.78.8-2.07 0-2.86zM5.41 20L4 18.59l7.72-7.72 1.47 1.35L5.41 20z\"/>\n",
       "  </svg>\n",
       "      </button>\n",
       "      \n",
       "  <style>\n",
       "    .colab-df-container {\n",
       "      display:flex;\n",
       "      flex-wrap:wrap;\n",
       "      gap: 12px;\n",
       "    }\n",
       "\n",
       "    .colab-df-convert {\n",
       "      background-color: #E8F0FE;\n",
       "      border: none;\n",
       "      border-radius: 50%;\n",
       "      cursor: pointer;\n",
       "      display: none;\n",
       "      fill: #1967D2;\n",
       "      height: 32px;\n",
       "      padding: 0 0 0 0;\n",
       "      width: 32px;\n",
       "    }\n",
       "\n",
       "    .colab-df-convert:hover {\n",
       "      background-color: #E2EBFA;\n",
       "      box-shadow: 0px 1px 2px rgba(60, 64, 67, 0.3), 0px 1px 3px 1px rgba(60, 64, 67, 0.15);\n",
       "      fill: #174EA6;\n",
       "    }\n",
       "\n",
       "    [theme=dark] .colab-df-convert {\n",
       "      background-color: #3B4455;\n",
       "      fill: #D2E3FC;\n",
       "    }\n",
       "\n",
       "    [theme=dark] .colab-df-convert:hover {\n",
       "      background-color: #434B5C;\n",
       "      box-shadow: 0px 1px 3px 1px rgba(0, 0, 0, 0.15);\n",
       "      filter: drop-shadow(0px 1px 2px rgba(0, 0, 0, 0.3));\n",
       "      fill: #FFFFFF;\n",
       "    }\n",
       "  </style>\n",
       "\n",
       "      <script>\n",
       "        const buttonEl =\n",
       "          document.querySelector('#df-12c1d659-eb34-4342-8487-efe3a56fa767 button.colab-df-convert');\n",
       "        buttonEl.style.display =\n",
       "          google.colab.kernel.accessAllowed ? 'block' : 'none';\n",
       "\n",
       "        async function convertToInteractive(key) {\n",
       "          const element = document.querySelector('#df-12c1d659-eb34-4342-8487-efe3a56fa767');\n",
       "          const dataTable =\n",
       "            await google.colab.kernel.invokeFunction('convertToInteractive',\n",
       "                                                     [key], {});\n",
       "          if (!dataTable) return;\n",
       "\n",
       "          const docLinkHtml = 'Like what you see? Visit the ' +\n",
       "            '<a target=\"_blank\" href=https://colab.research.google.com/notebooks/data_table.ipynb>data table notebook</a>'\n",
       "            + ' to learn more about interactive tables.';\n",
       "          element.innerHTML = '';\n",
       "          dataTable['output_type'] = 'display_data';\n",
       "          await google.colab.output.renderOutput(dataTable, element);\n",
       "          const docLink = document.createElement('div');\n",
       "          docLink.innerHTML = docLinkHtml;\n",
       "          element.appendChild(docLink);\n",
       "        }\n",
       "      </script>\n",
       "    </div>\n",
       "  </div>\n",
       "  "
      ]
     },
     "metadata": {},
     "execution_count": 29
    }
   ]
  },
  {
   "cell_type": "code",
   "source": [
    "y.head()"
   ],
   "metadata": {
    "colab": {
     "base_uri": "https://localhost:8080/"
    },
    "id": "TTj7WWlXWpqA",
    "outputId": "b72ffcf6-b7fa-4caf-bff3-7892a1b7caf6"
   },
   "execution_count": null,
   "outputs": [
    {
     "output_type": "execute_result",
     "data": {
      "text/plain": [
       "0    4.526\n",
       "1    3.585\n",
       "2    3.521\n",
       "3    3.413\n",
       "4    3.422\n",
       "Name: MedHouseVal, dtype: float64"
      ]
     },
     "metadata": {},
     "execution_count": 30
    }
   ]
  },
  {
   "cell_type": "markdown",
   "source": [
    "Обучим модель линейной регрессии на исходных данных."
   ],
   "metadata": {
    "id": "af4twhRxXoap"
   }
  },
  {
   "cell_type": "code",
   "source": [
    "from sklearn.linear_model import LinearRegression\n",
    "from sklearn.model_selection import train_test_split\n",
    "\n",
    "Xtrain, Xtest, ytrain, ytest = train_test_split(X, y, test_size=0.25)"
   ],
   "metadata": {
    "id": "q8JnfPXlWqxf"
   },
   "execution_count": null,
   "outputs": []
  },
  {
   "cell_type": "code",
   "source": [
    "model = LinearRegression()\n",
    "\n",
    "model.fit(Xtrain, ytrain)\n",
    "\n",
    "pred = model.predict(Xtest)"
   ],
   "metadata": {
    "id": "E0kol7fhW5nU"
   },
   "execution_count": null,
   "outputs": []
  },
  {
   "cell_type": "code",
   "source": [
    "from sklearn.metrics import mean_squared_error\n",
    "\n",
    "mean_squared_error(ytest, pred) ** 0.5"
   ],
   "metadata": {
    "colab": {
     "base_uri": "https://localhost:8080/"
    },
    "id": "tD_PgxH6XCDJ",
    "outputId": "f6cc752b-8ca0-4f08-f3ee-732289cb2ff9"
   },
   "execution_count": null,
   "outputs": [
    {
     "output_type": "execute_result",
     "data": {
      "text/plain": [
       "0.7214901656777583"
      ]
     },
     "metadata": {},
     "execution_count": 33
    }
   ]
  },
  {
   "cell_type": "markdown",
   "source": [
    "Добавим полиномиальные признаки второй степени:\n",
    "\n",
    "$$1, x_1, x_2 \\to 1, x_1, x_2, x_1^2, x_2^2, x_1x_2.$$"
   ],
   "metadata": {
    "id": "9b16pmOjXrdT"
   }
  },
  {
   "cell_type": "code",
   "source": [
    "from sklearn.preprocessing import PolynomialFeatures\n",
    "\n",
    "pf = PolynomialFeatures(degree = 2)\n",
    "\n",
    "pf.fit(Xtrain)\n",
    "\n",
    "Xtrain_new = pf.transform(Xtrain)\n",
    "Xtest_new = pf.transform(Xtest)"
   ],
   "metadata": {
    "id": "2H35QLxoXH8H"
   },
   "execution_count": null,
   "outputs": []
  },
  {
   "cell_type": "code",
   "source": [
    "Xtrain_new[:1].shape"
   ],
   "metadata": {
    "colab": {
     "base_uri": "https://localhost:8080/"
    },
    "id": "mPL63z4ZrctL",
    "outputId": "f340a2df-60e4-43fa-e7f8-8eccba297966"
   },
   "execution_count": null,
   "outputs": [
    {
     "output_type": "execute_result",
     "data": {
      "text/plain": [
       "(1, 45)"
      ]
     },
     "metadata": {},
     "execution_count": 35
    }
   ]
  },
  {
   "cell_type": "markdown",
   "source": [
    "Обучим на обогащенных признаках модель."
   ],
   "metadata": {
    "id": "FFMGHWCBXz0Y"
   }
  },
  {
   "cell_type": "code",
   "source": [
    "model.fit(Xtrain_new, ytrain)\n",
    "\n",
    "pred2 = model.predict(Xtest_new)"
   ],
   "metadata": {
    "id": "YEflhnbJXVg0"
   },
   "execution_count": null,
   "outputs": []
  },
  {
   "cell_type": "code",
   "source": [
    "mean_squared_error(ytest, pred2) ** 0.5"
   ],
   "metadata": {
    "colab": {
     "base_uri": "https://localhost:8080/"
    },
    "id": "rIlYPc1FXaMh",
    "outputId": "7331c4d3-a27d-4576-d40c-721c542f788f"
   },
   "execution_count": null,
   "outputs": [
    {
     "output_type": "execute_result",
     "data": {
      "text/plain": [
       "0.690413531780605"
      ]
     },
     "metadata": {},
     "execution_count": 37
    }
   ]
  },
  {
   "cell_type": "code",
   "source": [
    "Xtrain_new.shape"
   ],
   "metadata": {
    "id": "BrFI1pERN14-"
   },
   "execution_count": null,
   "outputs": []
  },
  {
   "cell_type": "markdown",
   "source": [
    "Ошибка уменьшилась!"
   ],
   "metadata": {
    "id": "eqi56oj-X3st"
   }
  },
  {
   "cell_type": "code",
   "execution_count": 2,
   "outputs": [
    {
     "data": {
      "text/plain": "<Figure size 700x700 with 1 Axes>",
      "image/png": "[encoded data removed]"
     },
     "metadata": {},
     "output_type": "display_data"
    }
   ],
   "source": [
    "import numpy as np\n",
    "import matplotlib.pyplot as plt\n",
    "\n",
    "vector = np.array([75, 15])\n",
    "plt.figure(figsize=(7, 7))\n",
    "plt.axis([0, 100, 0, 100])\n",
    "plt.arrow(0, 0, vector[0], vector[1],\n",
    "    head_width=4,\n",
    "    length_includes_head='True',\n",
    "    color='b')\n",
    "plt.xlabel('Price')\n",
    "plt.ylabel('Quality')\n",
    "plt.grid(True)\n",
    "plt.show();"
   ],
   "metadata": {
    "collapsed": false
   }
  },
  {
   "cell_type": "code",
   "execution_count": 5,
   "outputs": [
    {
     "name": "stdout",
     "output_type": "stream",
     "text": [
      "Clients from the first aggregator: [array([68, 18], dtype=int64), array([81, 19], dtype=int64), array([81, 22], dtype=int64), array([75, 15], dtype=int64), array([76,  6], dtype=int64), array([84, 15], dtype=int64), array([73, 16], dtype=int64), array([88, 25], dtype=int64), array([78, 23], dtype=int64), array([77, 35], dtype=int64)]\n",
      "Clients from the second aggregator: [array([15, 75], dtype=int64), array([17, 72], dtype=int64), array([24, 75], dtype=int64), array([21, 91], dtype=int64), array([12, 74], dtype=int64), array([18, 83], dtype=int64), array([20, 62], dtype=int64), array([21, 82], dtype=int64), array([21, 79], dtype=int64), array([32, 81], dtype=int64)]\n"
     ]
    }
   ],
   "source": [
    "import numpy as np\n",
    "import pandas as pd\n",
    "\n",
    "reviews_values = [\n",
    "    [68,18], [81,19], [81,22], [15,75], [75,15], [17,72],\n",
    "    [24,75], [21,91], [76, 6], [12,74], [18,83], [20,62],\n",
    "    [21,82], [21,79], [84,15], [73,16], [88,25], [78,23],\n",
    "    [32, 81], [77, 35]]\n",
    "\n",
    "reviews = pd.DataFrame(reviews_values, columns=['Price', 'Quality'])\n",
    "\n",
    "clients_1 = []\n",
    "clients_2 = []\n",
    "\n",
    "for client in list(reviews.values):\n",
    "    if (client[0] > 60 and client[1] < 40):\n",
    "        clients_1.append(client)\n",
    "    elif (client[0] < 40 and client[1] > 60):\n",
    "        clients_2.append(client)\n",
    "\n",
    "print(\"Clients from the first aggregator:\", clients_1)\n",
    "print(\"Clients from the second aggregator:\", clients_2)\n"
   ],
   "metadata": {
    "collapsed": false
   }
  },
  {
   "cell_type": "code",
   "execution_count": 7,
   "outputs": [
    {
     "name": "stdout",
     "output_type": "stream",
     "text": [
      "                                 Quantity\n",
      "Silicone case for iPhone 8            107\n",
      "Leather case for iPhone 8              87\n",
      "Silicone case for iPhone XS           172\n",
      "Leather case for iPhone XS            139\n",
      "Silicone case for iPhone XS Max       113\n",
      "Leather case for iPhone XS Max        100\n",
      "Silicone case for iPhone 11            18\n",
      "Leather case for iPhone 11            110\n",
      "Silicone case for iPhone 11 Pro        45\n",
      "Leather case for iPhone 11 Pro         72\n"
     ]
    }
   ],
   "source": [
    "import numpy as np\n",
    "import pandas as pd\n",
    "\n",
    "# Create two lists of stock quantities for two different stores\n",
    "quantity_1 = [25, 63, 80, 91, 81, 55, 14, 76, 33, 71]\n",
    "quantity_2 = [82, 24, 92, 48, 32, 45, 4, 34, 12, 1]\n",
    "\n",
    "# Create a list of phone case models\n",
    "models = ['Silicone case for iPhone 8',\n",
    "          'Leather case for iPhone 8',\n",
    "          'Silicone case for iPhone XS',\n",
    "          'Leather case for iPhone XS',\n",
    "          'Silicone case for iPhone XS Max',\n",
    "          'Leather case for iPhone XS Max',\n",
    "          'Silicone case for iPhone 11',\n",
    "          'Leather case for iPhone 11',\n",
    "          'Silicone case for iPhone 11 Pro',\n",
    "          'Leather case for iPhone 11 Pro']\n",
    "\n",
    "# Create two DataFrames to hold the stock information for each store\n",
    "stocks_1 = pd.DataFrame({'Quantity': quantity_1}, index=models)\n",
    "stocks_2 = pd.DataFrame({'Quantity': quantity_2}, index=models)\n",
    "\n",
    "# Calculate the total stock quantity for all stores\n",
    "vector_of_quantity_1 = stocks_1['Quantity'].values\n",
    "vector_of_quantity_2 = stocks_2['Quantity'].values\n",
    "vector_of_quantity_united = vector_of_quantity_1 + vector_of_quantity_2\n",
    "\n",
    "# Create a new DataFrame with the total stock quantity for all stores\n",
    "stocks_united = pd.DataFrame({'Quantity': vector_of_quantity_united}, index=models)\n",
    "\n",
    "# Print the table of phone case models and their stock quantities for all stores\n",
    "print(stocks_united)\n"
   ],
   "metadata": {
    "collapsed": false
   }
  },
  {
   "cell_type": "code",
   "execution_count": 10,
   "outputs": [
    {
     "name": "stdout",
     "output_type": "stream",
     "text": [
      "                                 Quantity  Price  Price with 10% discount  \\\n",
      "Silicone case for iPhone 8            107   3000                     2700   \n",
      "Leather case for iPhone 8              87   2100                     1890   \n",
      "Silicone case for iPhone XS           172   3200                     2880   \n",
      "Leather case for iPhone XS            139   2200                     1980   \n",
      "Silicone case for iPhone XS Max       113   1800                     1620   \n",
      "Leather case for iPhone XS Max        100   1700                     1530   \n",
      "Silicone case for iPhone 11            18   3800                     3420   \n",
      "Leather case for iPhone 11            110   1200                     1080   \n",
      "Silicone case for iPhone 11 Pro        45   2300                     2070   \n",
      "Leather case for iPhone 11 Pro         72   2900                     2610   \n",
      "\n",
      "                                 Price increased by 10%  \n",
      "Silicone case for iPhone 8                         2970  \n",
      "Leather case for iPhone 8                          2079  \n",
      "Silicone case for iPhone XS                        3168  \n",
      "Leather case for iPhone XS                         2178  \n",
      "Silicone case for iPhone XS Max                    1782  \n",
      "Leather case for iPhone XS Max                     1683  \n",
      "Silicone case for iPhone 11                        3762  \n",
      "Leather case for iPhone 11                         1188  \n",
      "Silicone case for iPhone 11 Pro                    2277  \n",
      "Leather case for iPhone 11 Pro                     2871  \n"
     ]
    }
   ],
   "source": [
    "import numpy as np\n",
    "import pandas as pd\n",
    "\n",
    "quantity_1 = [25, 63, 80, 91, 81, 55, 14, 76, 33, 71]\n",
    "models = ['Silicone case for iPhone 8',\n",
    "          'Leather case for iPhone 8',\n",
    "          'Silicone case for iPhone XS',\n",
    "          'Leather case for iPhone XS',\n",
    "          'Silicone case for iPhone XS Max',\n",
    "          'Leather case for iPhone XS Max',\n",
    "          'Silicone case for iPhone 11',\n",
    "          'Leather case for iPhone 11',\n",
    "          'Silicone case for iPhone 11 Pro',\n",
    "          'Leather case for iPhone 11 Pro',\n",
    "         ]\n",
    "stocks_1 = pd.DataFrame({'Quantity' : quantity_1}, index=models)\n",
    "quantity_2 = [82, 24, 92, 48, 32, 45, 4, 34, 12, 1]\n",
    "stocks_2 = pd.DataFrame({'Quantity' : quantity_2}, index=models)\n",
    "\n",
    "vector_of_quantity_1 = stocks_1['Quantity'].values\n",
    "vector_of_quantity_2 = stocks_2['Quantity'].values\n",
    "vector_of_quantity_united = vector_of_quantity_1 + vector_of_quantity_2\n",
    "\n",
    "stocks_united = pd.DataFrame({'Quantity' : vector_of_quantity_united}, index=models)\n",
    "stocks_united['Price'] = [3000, 2100, 3200, 2200, 1800, 1700, 3800, 1200, 2300, 2900]\n",
    "\n",
    "price_united = stocks_united['Price'].values\n",
    "price_discount_10 = price_united * 0.9\n",
    "stocks_united['Price with 10% discount'] = price_discount_10.astype(int)\n",
    "\n",
    "price_no_discount = 1.1 * price_discount_10\n",
    "stocks_united['Price increased by 10%'] = price_no_discount.astype(int)\n",
    "print(stocks_united);"
   ],
   "metadata": {
    "collapsed": false
   }
  },
  {
   "cell_type": "code",
   "execution_count": 12,
   "outputs": [
    {
     "data": {
      "text/plain": "<Figure size 700x700 with 1 Axes>",
      "image/png": "[encoded data removed]"
     },
     "metadata": {},
     "output_type": "display_data"
    }
   ],
   "source": [
    "import numpy as np\n",
    "import pandas as pd\n",
    "import matplotlib.pyplot as plt\n",
    "\n",
    "reviews_values = [\n",
    "    [68,18], [81,19], [81,22], [15,75], [75,15], [17,72],\n",
    "    [24,75], [21,91], [76, 6], [12,74], [18,83], [20,62],\n",
    "    [21,82], [21,79], [84,15], [73,16], [88,25], [78,23],\n",
    "    [32, 81], [77, 35]]\n",
    "reviews = pd.DataFrame(reviews_values, columns=['Цена', 'Качество'])\n",
    "price = reviews['Цена'].values\n",
    "quality = reviews['Качество'].values\n",
    "\n",
    "clients_1 = []\n",
    "clients_2 = []\n",
    "for client in list(reviews.values):\n",
    "    if client[0] < 40 and client[1] > 60:\n",
    "        clients_2.append(client)\n",
    "    else:\n",
    "        clients_1.append(client)\n",
    "\n",
    "average_client_1 = sum(clients_1)/len(clients_1)\n",
    "\n",
    "average_client_2 = sum(clients_2)/len(clients_2)\n",
    "\n",
    "plt.figure(figsize=(7, 7))\n",
    "plt.axis([0, 100, 0, 100])\n",
    "\n",
    "# Plot the average for group 1\n",
    "plt.plot(average_client_1[0], average_client_1[1],\n",
    "         'bo', markersize=15)\n",
    "\n",
    "# Plot the average for group 2\n",
    "plt.plot(average_client_2[0], average_client_2[1],\n",
    "         'go', markersize=15)\n",
    "plt.plot(price, quality, 'ro')\n",
    "plt.xlabel('Price')\n",
    "plt.ylabel('Quality')\n",
    "plt.grid(True)\n",
    "plt.title(\"Distribution of ratings and the average value for each group\")\n",
    "plt.show();\n"
   ],
   "metadata": {
    "collapsed": false
   }
  },
  {
   "cell_type": "code",
   "execution_count": 14,
   "outputs": [
    {
     "name": "stdout",
     "output_type": "stream",
     "text": [
      "Product of two arrays:  [  2  -8  18 -32]\n",
      "Quotient of two arrays:  [ 2. -2.  2. -2.]\n"
     ]
    }
   ],
   "source": [
    "import numpy as np\n",
    "\n",
    "array1 = np.array([2, -4, 6, -8])\n",
    "array2 = np.array([1, 2, 3, 4])\n",
    "array_mult = array1 * array2\n",
    "array_div = array1 / array2\n",
    "\n",
    "print(\"Product of two arrays: \", array_mult)\n",
    "print(\"Quotient of two arrays: \", array_div)\n",
    "\n",
    "# Product of two arrays: [ 2 -8 18 -32]\n",
    "# Quotient of two arrays: [ 2. -2. 2. -2.]"
   ],
   "metadata": {
    "collapsed": false
   }
  },
  {
   "cell_type": "code",
   "execution_count": 15,
   "outputs": [
    {
     "name": "stdout",
     "output_type": "stream",
     "text": [
      "[2.06115362e-09 5.00000000e-01 6.22459331e-01 1.00000000e+00\n",
      " 2.68941421e-01]\n"
     ]
    }
   ],
   "source": [
    "import numpy as np\n",
    "\n",
    "def logistic_transform(values):\n",
    "    return 1 / (1+ np.exp(-values))\n",
    "\n",
    "our_values = np.array([-20, 0, 0.5, 80, -1])\n",
    "print(logistic_transform(our_values))"
   ],
   "metadata": {
    "collapsed": false
   }
  },
  {
   "cell_type": "code",
   "execution_count": 16,
   "outputs": [],
   "source": [
    "import numpy as np\n",
    "\n",
    "target = np.array([0.9, 1.2, 1.4, 1.5, 1.9, 2.0])\n",
    "predictions = np.array([1.0, 1.2, 1.4, 1.6, 1.8, 2.0])"
   ],
   "metadata": {
    "collapsed": false
   }
  },
  {
   "cell_type": "markdown",
   "source": [
    "Here are the translations for the answer options:\n",
    "\n",
    "* $sin(x_3)$\n",
    "* $x_1 \\cdot x_3$\n",
    "* ${x_2^3}$\n",
    "\n",
    "The question asks which features make sense to add to numerical features $x_1$, $x_2$, and $x_3$ in a regression problem to help a linear model better solve the task.\n",
    "\n",
    "\n",
    "\n",
    "\n",
    "\n",
    "$1/x$"
   ],
   "metadata": {
    "collapsed": false
   }
  },
  {
   "cell_type": "markdown",
   "source": [
    "$x_1, x_2, x_3, ..., x_{100}$"
   ],
   "metadata": {
    "collapsed": false
   }
  },
  {
   "cell_type": "code",
   "execution_count": null,
   "outputs": [],
   "source": [],
   "metadata": {
    "collapsed": false
   }
  }
 ]
}
